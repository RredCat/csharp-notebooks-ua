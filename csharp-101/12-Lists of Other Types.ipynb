{
  "cells": [
    {
      "cell_type": "markdown",
      "metadata": {},
      "source": [
        "# Списки Інших Типів\n",
        "\n",
        "Дивіться повне відео [C# 101 video En](https://www.youtube.com/watch?v=oIQdb93xewE&list=PLdo4fOcmZ0oVxKLQCHpiUWun7vlJJvUiN&index=14) для цього модуля..\n",
        "\n",
        "Ми використовували списки стрічок, але можна скласти список будь-якого типу! Ось приклад з числами.\n",
        "\n",
        "## Фібоначчі\n",
        "\n",
        "Fibonacci - це класна послідовність чисел. МИ додамо останні два числа і отримуємо наступне число. Починається з 1 і 1\n",
        "1 + 1 = 2  (1, 1, 2)\n",
        "1 + 2 = 3  (1, 1, 2, 3)\n",
        "2 + 3 = 5  (1, 1, 2, 3, 5)\n",
        "3 + 5 = 8  (1, 1, 2, 3, 5, 8)\n",
        "і так далі. У житті багато речей, які дотримуються цієї послідовності чисел!\n",
        "\n",
        "> Почніть з базових номерів: Ось список із 1, 1 в. Запустимо його і подивимося, що відбувається."
      ]
    },
    {
      "cell_type": "code",
      "execution_count": null,
      "metadata": {
        "dotnet_interactive": {
          "language": "csharp"
        },
        "vscode": {
          "languageId": "dotnet-interactive.csharp"
        }
      },
      "outputs": [
        {
          "name": "stdout",
          "output_type": "stream",
          "text": [
            "1\r\n",
            "1\r\n"
          ]
        }
      ],
      "source": [
        "var fibonacciNumbers = new List<int> {1, 1};\n",
        "\n",
        "foreach (var item in fibonacciNumbers)\n",
        "    Console.WriteLine(item);"
      ]
    },
    {
      "cell_type": "markdown",
      "metadata": {},
      "source": [
        "Тепер ми не хочемо лише 1,1! Ми хочемо довшу послідовність. У коді нижче ми використаємо останні два елементи списку, додаючи їх, щоб отримати наступний номер, а потім додаємо його до списку.\n",
        "\n",
        "> Запустіть код, щоб спробувати."
      ]
    },
    {
      "cell_type": "code",
      "execution_count": null,
      "metadata": {
        "dotnet_interactive": {
          "language": "csharp"
        },
        "vscode": {
          "languageId": "dotnet-interactive.csharp"
        }
      },
      "outputs": [
        {
          "name": "stdout",
          "output_type": "stream",
          "text": [
            "1\r\n",
            "1\r\n",
            "2\r\n"
          ]
        }
      ],
      "source": [
        "var fibonacciNumbers = new List<int> {1, 1}; // Старт базового списку\n",
        "\n",
        "var previous = fibonacciNumbers[fibonacciNumbers.Count - 1]; // Беремо останній елемент зі списку\n",
        "var previous2 = fibonacciNumbers[fibonacciNumbers.Count - 2]; // Беремо перед останній елемент зі списку\n",
        "\n",
        "fibonacciNumbers.Add(previous + previous2); // Сумуємо попередні цифри і додаємо суму в кінець списку\n",
        "\n",
        "foreach (var item in fibonacciNumbers) // Виводимо список\n",
        "    Console.WriteLine(item);"
      ]
    },
    {
      "cell_type": "markdown",
      "metadata": {},
      "source": [
        "## Count -1\n",
        "\n",
        "Чому нам потрібно робити `fibonacciNumbers.Count -1` щоб отримати останній номер списку? Гаразд, `Count` показує, скільки елементів у списку. Однак індекс починається з нуля. Отже, якби у нашому списку був би лише один елемент, `Count` був би рівний одиниці, а індекс елементу 0. Індекс останнього елементу завжди менший на одиницю за кількість елементів у списку."
      ]
    },
    {
      "cell_type": "markdown",
      "metadata": {},
      "source": [
        "# Завдання: Фібоначчі до 20-го елемента\n",
        "\n",
        "Ми маємо базовий код для чисел Фібоначчі. Складіть список для перших 20 елементів Фібоначчі?\n",
        "\n",
        "> Складіть та виведіть список, який містить перші 20 номерів Фібоначчі."
      ]
    },
    {
      "cell_type": "code",
      "execution_count": null,
      "metadata": {
        "dotnet_interactive": {
          "language": "csharp"
        },
        "vscode": {
          "languageId": "dotnet-interactive.csharp"
        }
      },
      "outputs": [
        {
          "name": "stdout",
          "output_type": "stream",
          "text": [
            "Завдання\r\n"
          ]
        }
      ],
      "source": [
        "Console.WriteLine(\"Завдання\");"
      ]
    },
    {
      "cell_type": "markdown",
      "metadata": {},
      "source": [
        "## Поради та підказки\n",
        "\n",
        "- Результат повиннен бути 6765.\n",
        "- Можна використати`for` для циклу? Чи `foreach`? Чи `while`? Якому циклу ви віддасте перевагу?\n",
        "- Ви зробили, але одного елемента не вистачає? Це справді поширена пробелема! Пам'ятайте, що `>` і `>=` схожі, але перше закінчується на крок раніше. Спробуйте поексперементувати.\n",
        "- Пам'ятайте, що ви вже починаєте з двох пунктів у списку.\n",
        "- Застрягли? Дивіться [C# 101 відео En](https://www.youtube.com/watch?v=oIQdb93xewE&list=PLdo4fOcmZ0oVxKLQCHpiUWun7vlJJvUiN&index=14) для цього модуля. Робіть паузи, зрозумійте як код працює і тоді продовжуйте далі."
      ]
    },
    {
      "cell_type": "markdown",
      "metadata": {},
      "source": [
        "# Продовжуємо навчання (Eng)\n",
        "\n",
        "Більше ресурсів для навчання!\n",
        "\n",
        "> [⏩ Наступний модуль - Об'єкти та Класи](http://tinyurl.com/csharp-notebook13)\n",
        ">\n",
        "> [⏪ Попередній Модуль - Пошук, Сортування та Індексація списків](http://tinyurl.com/csharp-notebook11)\n",
        ">\n",
        "> [Перегляньте відео](https://www.youtube.com/watch?v=oIQdb93xewE&list=PLdo4fOcmZ0oVxKLQCHpiUWun7vlJJvUiN&index=14)\n",
        ">\n",
        "> [Документація: Масиви, Списки та Колекції](https://docs.microsoft.com/dotnet/csharp/tour-of-csharp/tutorials/arrays-and-collections?WT.mc_id=Educationalcsharp-c9-scottha)\n",
        ">\n",
        "> [Почніть з початку: що таке C#?](https://www.youtube.com/watch?v=BM4CHBmAPh4&list=PLdo4fOcmZ0oVxKLQCHpiUWun7vlJJvUiN&index=1)"
      ]
    },
    {
      "cell_type": "markdown",
      "metadata": {},
      "source": [
        "# Інші ресурси\n",
        "\n",
        "Ще кілька ресурсів для навчання:\n",
        "> [Other 101 Videos](https://dotnet.microsoft.com/learn/videos?WT.mc_id=csharpnotebook-35129-website)\n",
        ">\n",
        "> [Microsoft Learn](https://docs.microsoft.com/learn/dotnet/?WT.mc_id=csharpnotebook-35129-website)\n",
        ">\n",
        "> [C# Documentation](https://docs.microsoft.com/dotnet/csharp/?WT.mc_id=csharpnotebook-35129-website)\n",
        ">\n",
        "> [Download Visual Studio](https://visualstudio.microsoft.com/downloads/)\n",
        ">"
      ]
    }
  ],
  "metadata": {
    "kernelspec": {
      "display_name": ".NET (C#)",
      "language": "C#",
      "name": ".net-csharp"
    },
    "language_info": {
      "file_extension": ".cs",
      "mimetype": "text/x-csharp",
      "name": "C#",
      "pygments_lexer": "csharp",
      "version": "8.0"
    }
  },
  "nbformat": 4,
  "nbformat_minor": 4
}
