{
  "cells": [
    {
      "cell_type": "markdown",
      "metadata": {},
      "source": [
        "# Методи та Змінні\n",
        "\n",
        "Дивіться повне відео [C# 101 video En](https://www.youtube.com/watch?v=xLhm3bEG__c&list=PLdo4fOcmZ0oVxKLQCHpiUWun7vlJJvUiN&index=17) для цього модуля.\n",
        "\n",
        "Нижче наш банківський рахунок! Зараз він не робить багато, лише друкує власника та баланс. У ньому навіть немає номеру рахунку. Ми будемо працювати над транзакційним класом, який доданий як порожній клас нижче.\n",
        "\n",
        "> Запустіть коду нижче і ukzymnt, що виведеться. Це те, з чим ми закінчили в попердньому модулі."
      ]
    },
    {
      "cell_type": "code",
      "execution_count": null,
      "metadata": {
        "dotnet_interactive": {
          "language": "csharp"
        },
        "vscode": {
          "languageId": "dotnet-interactive.csharp"
        }
      },
      "outputs": [],
      "source": [
        "public class BankAccount\n",
        "{\n",
        "    // Властивостіі\n",
        "    public string Number { get; }\n",
        "    public string Owner { get; set; }\n",
        "    public decimal Balance { get; }\n",
        "\n",
        "    // Конструктор\n",
        "    public BankAccount(string name, decimal initialBalance)\n",
        "    {\n",
        "        this.Owner = name;\n",
        "        this.Balance = initialBalance;\n",
        "    }\n",
        "\n",
        "    // Функції\n",
        "    public void MakeDeposit(decimal amount, DateTime date, string note)\n",
        "    {\n",
        "    }\n",
        "\n",
        "    public void MakeWithdrawal(decimal amount, DateTime date, string note)\n",
        "    {\n",
        "    }\n",
        "}"
      ]
    },
    {
      "cell_type": "code",
      "execution_count": null,
      "metadata": {
        "dotnet_interactive": {
          "language": "csharp"
        },
        "vscode": {
          "languageId": "dotnet-interactive.csharp"
        }
      },
      "outputs": [
        {
          "name": "stdout",
          "output_type": "stream",
          "text": [
            "Акаунт  створений для Кіндрат, баланс $1000\r\n"
          ]
        }
      ],
      "source": [
        "var account = new BankAccount(\"Кіндрат\", 1000);\n",
        "Console.WriteLine($\"Акаунт {account.Number} створений для {account.Owner}, баланс ${account.Balance}\");"
      ]
    },
    {
      "cell_type": "markdown",
      "metadata": {},
      "source": [
        "## #1: Account Number (Номер Акаунту)\n",
        "\n",
        "Для початку нам потрібене число, на якому будуть базувати нові номери рахунків, щоб гарантувати, що всі облікові записи є унікальними. Нижче наведено код цього числа \"seed\". Що це означає?\n",
        "\n",
        "- **Private (Прайвет\\Приватний)**: Це означає, що цей номер можна побачити тільки в середині класу `BankAccount`. Він для тільки для внутрішнього використання.\n",
        "- **Static**: Це означає, що це поле спільне для всіх екземплярів класу. Якщо однин екземпляр змінить його - він зміниться для всіх екземплярів цього класу. Це прекрасний варіант, щоб пересвідчитися, що ми створюємо унікальний номер рахунку! Як тільки один рахунок використав це число для номеру рахунку, ми його збільшуємо на один і наступний рахунок буде мати унікальний номер.\n",
        "\n",
        "> Скопіюйте код нижче і вставте його у секцію `// Властивості` класу `BankAccount`.\n",
        "\n",
        "```csharp\n",
        "private static int accountNumberSeed = 1234567890;\n",
        "```\n",
        "\n",
        "> Скопіюйте наступне і додайте його до конструктора.\n",
        "\n",
        "```csharp\n",
        "this.Number = accountNumberSeed.ToString();\n",
        "accountNumberSeed++;\n",
        "```\n",
        "\n",
        "> Запустіть код і полгянемо, що трапиться!"
      ]
    },
    {
      "cell_type": "code",
      "execution_count": null,
      "metadata": {
        "dotnet_interactive": {
          "language": "csharp"
        },
        "vscode": {
          "languageId": "dotnet-interactive.csharp"
        }
      },
      "outputs": [],
      "source": [
        "public class BankAccount\n",
        "{\n",
        "    // Властивості\n",
        "    public string Number { get; }\n",
        "    public string Owner { get; set; }\n",
        "    public decimal Balance { get; }\n",
        "    //(Вставити перший шмат коду сюди!)\n",
        "\n",
        "    // Конструктор\n",
        "    public BankAccount(string name, decimal initialBalance)\n",
        "    {\n",
        "        this.Owner = name;\n",
        "        this.Balance = initialBalance;\n",
        "        //(А сюди другий шмат коду!)\n",
        "\n",
        "    }\n",
        "\n",
        "    // Функції\n",
        "    public void MakeDeposit(decimal amount, DateTime date, string note)\n",
        "    {\n",
        "    }\n",
        "\n",
        "    public void MakeWithdrawal(decimal amount, DateTime date, string note)\n",
        "    {\n",
        "    }\n",
        "}"
      ]
    },
    {
      "cell_type": "code",
      "execution_count": null,
      "metadata": {
        "dotnet_interactive": {
          "language": "csharp"
        },
        "vscode": {
          "languageId": "dotnet-interactive.csharp"
        }
      },
      "outputs": [
        {
          "name": "stdout",
          "output_type": "stream",
          "text": [
            "Рахунок  створений для Kendra з балансом $1000\r\n"
          ]
        }
      ],
      "source": [
        "var account = new BankAccount(\"Кіндрат\", 1000);\n",
        "Console.WriteLine($\"Рахунок {account.Number} створений для {account.Owner} з балансом ${account.Balance}\");"
      ]
    },
    {
      "cell_type": "markdown",
      "metadata": {},
      "source": [
        "## #2: Транзакційні Властивості\n",
        "\n",
        "Наступна частина яка нам потрібна - баланс! Давайте створимо історію тразакцій. Для цього, нам потрібен маленький транзакційний клас, що записує дані одної транзації.\n",
        "\n",
        "> скопіюйте властивості нижче в клас `Transaction`\n",
        "\n",
        "```csharp\n",
        "public decimal Amount { get; }\n",
        "public DateTime Date { get; }\n",
        "public string Notes { get; }\n",
        "```"
      ]
    },
    {
      "cell_type": "code",
      "execution_count": null,
      "metadata": {
        "dotnet_interactive": {
          "language": "csharp"
        },
        "vscode": {
          "languageId": "dotnet-interactive.csharp"
        }
      },
      "outputs": [],
      "source": [
        "public class Transaction\n",
        "{\n",
        "    // Властивості (Вставте сюди!)\n",
        "\n",
        "    // Constructor\n",
        "}"
      ]
    },
    {
      "cell_type": "markdown",
      "metadata": {},
      "source": [
        "## #3: Конструктор класу Transaction\n",
        "\n",
        "Далі нам потрібно додати конструктор до класу!\n",
        "\n",
        "> Додайте наступний код до класу `Transaction`, в секцію конструктор.\n",
        "\n",
        "```csharp\n",
        "public Transaction(decimal amount, DateTime date, string note)\n",
        "{\n",
        "    this.Amount = amount;\n",
        "    this.Date = date;\n",
        "    this.Notes = note;\n",
        "}\n",
        "```"
      ]
    },
    {
      "cell_type": "code",
      "execution_count": null,
      "metadata": {
        "dotnet_interactive": {
          "language": "csharp"
        },
        "vscode": {
          "languageId": "dotnet-interactive.csharp"
        }
      },
      "outputs": [],
      "source": [
        "public class Transaction\n",
        "{\n",
        "    // Властивості\n",
        "    public decimal Amount { get; }\n",
        "    public DateTime Date { get; }\n",
        "    public string Notes { get; }\n",
        "\n",
        "    // Конструктор (Вставте тут!)\n",
        "}"
      ]
    },
    {
      "cell_type": "markdown",
      "metadata": {},
      "source": [
        "## #4: Оновлення Банківського Рахунку\n",
        "\n",
        "Тепер у нас є клас для транзакцій і ми його можемо використати в нашому класі рахунку. Створимо список транзакцій.\n",
        "\n",
        "> Скопіюємо код нижче до секції Властивості.\n",
        "\n",
        "```csharp\n",
        "private List<Transaction> allTransactions = new List<Transaction>();\n",
        "```"
      ]
    },
    {
      "cell_type": "code",
      "execution_count": null,
      "metadata": {
        "dotnet_interactive": {
          "language": "csharp"
        },
        "vscode": {
          "languageId": "dotnet-interactive.csharp"
        }
      },
      "outputs": [],
      "source": [
        "using System.Collections.Generic;\n",
        "\n",
        "public class BankAccount\n",
        "{\n",
        "    // Властивості\n",
        "    public string Number { get; }\n",
        "    public string Owner { get; set; }\n",
        "    public decimal Balance{ get;}\n",
        "    private static int accountNumberSeed = 1234567890;\n",
        "    //(Копіюємо сюди!)\n",
        "\n",
        "    // Конструктор\n",
        "    public BankAccount(string name, decimal initialBalance)\n",
        "    {\n",
        "        this.Owner = name;\n",
        "        this.Balance = initialBalance;\n",
        "        this.Number = accountNumberSeed.ToString();\n",
        "        accountNumberSeed++;\n",
        "\n",
        "    }\n",
        "\n",
        "    // Функції\n",
        "    public void MakeDeposit(decimal amount, DateTime date, string note)\n",
        "    {\n",
        "    }\n",
        "\n",
        "    public void MakeWithdrawal(decimal amount, DateTime date, string note)\n",
        "    {\n",
        "    }\n",
        "}"
      ]
    },
    {
      "cell_type": "markdown",
      "metadata": {},
      "source": [
        "## #5: Оновлення Балансу\n",
        "\n",
        "Тепер, коли у нас є список транзакцій, нам потрібно додати властивість `Balance`. Щоб порахувати акутальний баланс, нам потрібно перерахувавши усі дані у транзакціях. Ми зробимо це, додавши деякі інструкції до `get` у властивості `Balance`!\n",
        "\n",
        "> В `BankAccount`, замініть `public decimal Balance { get;}` на наступний код:\n",
        "\n",
        "```csharp\n",
        "public decimal Balance\n",
        "{\n",
        "    get\n",
        "    {\n",
        "        decimal balance = 0;\n",
        "        foreach (var item in allTransactions)\n",
        "        {\n",
        "            balance += item.Amount;\n",
        "        }\n",
        "\n",
        "        return balance;\n",
        "    }\n",
        "}\n",
        "```"
      ]
    },
    {
      "cell_type": "code",
      "execution_count": null,
      "metadata": {
        "dotnet_interactive": {
          "language": "csharp"
        },
        "vscode": {
          "languageId": "dotnet-interactive.csharp"
        }
      },
      "outputs": [],
      "source": [
        "public class BankAccount\n",
        "{\n",
        "    // Властивості\n",
        "    public string Number { get; }\n",
        "    public string Owner { get; set; }\n",
        "    public decimal Balance { get; }  // Замініть цей рядок!\n",
        "    private static int accountNumberSeed = 1234567890;\n",
        "    private List<Transaction> allTransactions = new List<Transaction>();\n",
        "\n",
        "    // Конструктор\n",
        "    public BankAccount(string name, decimal initialBalance)\n",
        "    {\n",
        "        this.Owner = name;\n",
        "        this.Balance = initialBalance;\n",
        "        this.Number = accountNumberSeed.ToString();\n",
        "        accountNumberSeed++;\n",
        "    }\n",
        "\n",
        "    // Функції\n",
        "    public void MakeDeposit(decimal amount, DateTime date, string note)\n",
        "    {\n",
        "    }\n",
        "\n",
        "    public void MakeWithdrawal(decimal amount, DateTime date, string note)\n",
        "    {\n",
        "    }\n",
        "}"
      ]
    },
    {
      "cell_type": "markdown",
      "metadata": {},
      "source": [
        "## #6: Виправлення помилок\n",
        "\n",
        "Можливо, ви помітили червону хвилясту лінію під `this.Balance`. Ми створили нову помилку (багу)! Because whenever you're getting Balance, it goes through a process of summing up the list of transactions, you can't just say that `Balance` is initial balance. You won't fix this entirely in this module, but you can make the code usable for now.\n",
        "\n",
        "> Remove the line `this.Balance = initialBalance`."
      ]
    },
    {
      "cell_type": "code",
      "execution_count": null,
      "metadata": {
        "dotnet_interactive": {
          "language": "csharp"
        },
        "vscode": {
          "languageId": "dotnet-interactive.csharp"
        }
      },
      "outputs": [
        {
          "ename": "Error",
          "evalue": "(27,9): error CS0200: Property or indexer 'BankAccount.Balance' cannot be assigned to -- it is read only",
          "output_type": "error",
          "traceback": [
            "(27,9): error CS0200: Property or indexer 'BankAccount.Balance' cannot be assigned to -- it is read only"
          ]
        }
      ],
      "source": [
        "public class BankAccount\n",
        "{\n",
        "    // Properties\n",
        "    public string Number { get; }\n",
        "    public string Owner { get; set; }\n",
        "    public decimal Balance\n",
        "    {\n",
        "        get\n",
        "        {\n",
        "            decimal balance = 0;\n",
        "            foreach (var item in allTransactions)\n",
        "            {\n",
        "                balance += item.Amount;\n",
        "            }\n",
        "\n",
        "            return balance;\n",
        "        }\n",
        "    }\n",
        "    private static int accountNumberSeed = 1234567890;\n",
        "    private List<Transaction> allTransactions = new List<Transaction>();\n",
        "\n",
        "\n",
        "    // Constructor\n",
        "    public BankAccount(string name, decimal initialBalance)\n",
        "    {\n",
        "        this.Owner = name;\n",
        "        this.Balance = initialBalance; //delete this line\n",
        "        this.Number = accountNumberSeed.ToString();\n",
        "        accountNumberSeed++;\n",
        "    }\n",
        "\n",
        "    // Functions\n",
        "    public void MakeDeposit(decimal amount, DateTime date, string note)\n",
        "    {\n",
        "    }\n",
        "\n",
        "    public void MakeWithdrawal(decimal amount, DateTime date, string note)\n",
        "    {\n",
        "    }\n",
        "}"
      ]
    },
    {
      "cell_type": "markdown",
      "metadata": {},
      "source": [
        "# Review: Where did Initial Balance go?\n",
        "\n",
        "Here's our final code for this module below. There's a problem though! You no longer have an initial balance and have 0 money! Since you tied up your balance with transactions, you're gonna need to be able to make deposits and withdrawals to put money in the bank. You'll learn that in the next module!\n",
        "\n",
        "> Run the code cells below.\n",
        ">\n",
        "> Try making your own transaction methods before the next module! Where are you getting stuck? What do you need to learn?"
      ]
    },
    {
      "cell_type": "code",
      "execution_count": null,
      "metadata": {
        "dotnet_interactive": {
          "language": "csharp"
        },
        "vscode": {
          "languageId": "dotnet-interactive.csharp"
        }
      },
      "outputs": [],
      "source": [
        "public class Transaction\n",
        "{\n",
        "    // Properties (#2)\n",
        "    public decimal Amount { get; }\n",
        "    public DateTime Date { get; }\n",
        "    public string Notes\n",
        "    {\n",
        "        get;\n",
        "\n",
        "    }\n",
        "\n",
        "    // Constructor (#3)\n",
        "    public Transaction(decimal amount, DateTime date, string note)\n",
        "    {\n",
        "        this.Amount = amount;\n",
        "        this.Date = date;\n",
        "        this.Notes = note;\n",
        "    }\n",
        "}"
      ]
    },
    {
      "cell_type": "code",
      "execution_count": null,
      "metadata": {
        "dotnet_interactive": {
          "language": "csharp"
        },
        "vscode": {
          "languageId": "dotnet-interactive.csharp"
        }
      },
      "outputs": [],
      "source": [
        "using System.Collections.Generic;\n",
        "\n",
        "public class BankAccount\n",
        "{\n",
        "    // Properties\n",
        "    public string Number { get; }\n",
        "    public string Owner { get; set; }\n",
        "    public decimal Balance  //(#5)\n",
        "    {\n",
        "        get\n",
        "\n",
        "        {\n",
        "            decimal balance = 0;\n",
        "            foreach (var item in allTransactions)\n",
        "            {\n",
        "                balance += item.Amount;\n",
        "            }\n",
        "\n",
        "            return balance;\n",
        "        }\n",
        "\n",
        "\n",
        "    }\n",
        "    private static int accountNumberSeed = 1234567890; //(#1)\n",
        "    private List<Transaction> allTransactions = new List<Transaction>(); //(#4)\n",
        "\n",
        "\n",
        "    // Constructor\n",
        "    public BankAccount(string name, decimal initialBalance)\n",
        "    {\n",
        "        this.Owner = name;\n",
        "        //(#6: deleted \"this.Balance = initialBalance;\")\n",
        "        this.Number = accountNumberSeed.ToString(); //(#1)\n",
        "        accountNumberSeed++; //(#1)\n",
        "\n",
        "    }\n",
        "\n",
        "    // Functions\n",
        "    public void MakeDeposit(decimal amount, DateTime date, string note)\n",
        "    {\n",
        "    }\n",
        "\n",
        "    public void MakeWithdrawal(decimal amount, DateTime date, string note)\n",
        "    {\n",
        "    }\n",
        "}"
      ]
    },
    {
      "cell_type": "code",
      "execution_count": null,
      "metadata": {
        "dotnet_interactive": {
          "language": "csharp"
        },
        "vscode": {
          "languageId": "dotnet-interactive.csharp"
        }
      },
      "outputs": [
        {
          "name": "stdout",
          "output_type": "stream",
          "text": [
            "Account 1234567890 was created for Kendra with 0 dollars\r\n"
          ]
        }
      ],
      "source": [
        "var account = new BankAccount(\"Kendra\", 1000);\n",
        "Console.WriteLine($\"Account {account.Number} was created for {account.Owner} with {account.Balance} dollars\");"
      ]
    },
    {
      "cell_type": "markdown",
      "metadata": {},
      "source": [
        "# Continue learning\n",
        "\n",
        "There are plenty more resources out there to learn!\n",
        "> [⏩ Next Module - Methods and Exceptions](http://tinyurl.com/csharp-notebook15)\n",
        ">\n",
        "> [⏪ Last Module - Objects and Classes](http://tinyurl.com/csharp-notebook13)\n",
        ">\n",
        "> [Watch the video](https://www.youtube.com/watch?v=xLhm3bEG__c&list=PLdo4fOcmZ0oVxKLQCHpiUWun7vlJJvUiN&index=17)\n",
        ">\n",
        "> [Documentation: Object Oriented Coding in C#](https://docs.microsoft.com/dotnet/csharp/fundamentals/tutorials/classes?WT.mc_id=Educationalcsharp-c9-scottha)\n",
        ">\n",
        "> [Start at the beginning: What is C#?](https://www.youtube.com/watch?v=BM4CHBmAPh4&list=PLdo4fOcmZ0oVxKLQCHpiUWun7vlJJvUiN&index=1)"
      ]
    },
    {
      "cell_type": "markdown",
      "metadata": {},
      "source": [
        "# Other resources\n",
        "\n",
        "Here's some more places to explore:\n",
        "> [Other 101 Videos](https://dotnet.microsoft.com/learn/videos?WT.mc_id=csharpnotebook-35129-website)\n",
        ">\n",
        "> [Microsoft Learn](https://docs.microsoft.com/learn/dotnet/?WT.mc_id=csharpnotebook-35129-website)\n",
        ">\n",
        "> [C# Documentation](https://docs.microsoft.com/dotnet/csharp/?WT.mc_id=csharpnotebook-35129-website)"
      ]
    }
  ],
  "metadata": {
    "kernelspec": {
      "display_name": ".NET (C#)",
      "language": "C#",
      "name": ".net-csharp"
    },
    "language_info": {
      "file_extension": ".cs",
      "mimetype": "text/x-csharp",
      "name": "C#",
      "pygments_lexer": "csharp",
      "version": "8.0"
    }
  },
  "nbformat": 4,
  "nbformat_minor": 4
}
