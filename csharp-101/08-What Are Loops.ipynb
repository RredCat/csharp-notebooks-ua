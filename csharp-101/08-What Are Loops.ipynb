{
  "cells": [
    {
      "cell_type": "markdown",
      "metadata": {},
      "source": [
        "# Що Таке Цикли?\n",
        "Дивіться відео [C# 101 video En](https://www.youtube.com/watch?v=z31m5Up_gSQ&list=PLdo4fOcmZ0oVxKLQCHpiUWun7vlJJvUiN&index=10) для цього модуля."
      ]
    },
    {
      "cell_type": "markdown",
      "metadata": {},
      "source": [
        "Цикли це спосіб повторити дію кілька разів. Ви можете використовувати `while` для цього.\n",
        "> Спробуйте перший цикл:"
      ]
    },
    {
      "cell_type": "code",
      "execution_count": null,
      "metadata": {
        "dotnet_interactive": {
          "language": "csharp"
        },
        "vscode": {
          "languageId": "dotnet-interactive.csharp"
        }
      },
      "outputs": [],
      "source": [
        "int counter = 0;\n",
        "while (counter < 10)\n",
        "{\n",
        "  Console.WriteLine($\"Привіт Світ! Лічильник {counter}\");\n",
        "  counter++;\n",
        "}"
      ]
    },
    {
      "cell_type": "markdown",
      "metadata": {},
      "source": [
        "Так що тут сталося? `while` перевіряє, чи умова ('counter < 10') виконується. Якщо це так, ми проходимо через цикл. Потім перевіряємо його ще раз. Це буде продовжуватися, поки умова не перестане виконуватися.\n",
        "Коли ми огортаємо код циклу в фігурні дужки, людині стає простіше його зрозуміти. Код вище можна описати: \"Встановіть counter рівним 0. Допоки counter менше 10, друкуйте 'Привіт Світ! Лічилькник {counter}', а тоді збільшити counter на 1\".\n",
        "\n",
        "## ++\n",
        "\n",
        "`++` це швидкий спосіб додати 1 до змінної. `--` працює так само, але віднімає 1 від змінної.\n",
        "\n",
        "## Нескінченні цикли\n",
        "\n",
        "Можна випадково зробити нескінченний цикл. **Примітка редакторів: Ми не можете створити нескінченний цикл тут, оскільки блокнот ніколи не зупиняється**. Якщо ми потрапили в нескінченний цикл в програмі, у нас є два варіанти: ми завжди можемо вийти із програми, або ми можемо натиснути CTRL+C.\n",
        "\n",
        "> Завдання: Ми не можемо показати це у цьому ноутбуці, але як завдання, спробуйте зробити нескінченний цикл у Visual Studio! Якими способами ми можемо випадково зробити цикл нескінченним? Помилка може бути серйозною, але завжди знайте, що ви можете натиснути CTRL+C або вийти з програми."
      ]
    },
    {
      "cell_type": "markdown",
      "metadata": {},
      "source": [
        "## do\n",
        "\n",
        "Ми також можемо зробити цикл з `do`.\n",
        "> Спробуйте наступний код і подивіться, чи є різниця між цим кодом і `while` циклом."
      ]
    },
    {
      "cell_type": "code",
      "execution_count": null,
      "metadata": {
        "dotnet_interactive": {
          "language": "csharp"
        },
        "vscode": {
          "languageId": "dotnet-interactive.csharp"
        }
      },
      "outputs": [],
      "source": [
        "int counter = 0;\n",
        "do\n",
        "{\n",
        "  Console.WriteLine($\"Привіт Світ! Лічильнік {counter}\");\n",
        "  counter++;\n",
        "} while (counter < 10);"
      ]
    },
    {
      "cell_type": "markdown",
      "metadata": {},
      "source": [
        "Хм, нічого не змінилося, правда?\n",
        "\n",
        "> А тепер змінимо умовну на `(counter < 0)` на обох прикладах. Що зміниться?\n",
        "\n",
        "У `while` циклі, нічого не виведеться, але в `do` циклі, вам виведе один рядок. `do` цикл спочатку робить, а потім перевіряє умову. А `while` цикл спочатку перевіряє умову, а тоді робить."
      ]
    },
    {
      "cell_type": "markdown",
      "metadata": {},
      "source": [
        "## for цикл\n",
        "\n",
        "`for` є один з найпоширеніших циклів. Він повторяє дію певну кількість разів. Його робота заворожує.\n",
        "> Перш ніж вивчити всі входи та виходи з та у код, запустіть наступний цикл, і глянемо як він працює:"
      ]
    },
    {
      "cell_type": "code",
      "execution_count": null,
      "metadata": {
        "dotnet_interactive": {
          "language": "csharp"
        },
        "vscode": {
          "languageId": "dotnet-interactive.csharp"
        }
      },
      "outputs": [],
      "source": [
        "for (int counter = 0; counter < 10; counter++)\n",
        "{\n",
        "  Console.WriteLine($\"Привіт Світ! Лічильник {counter}\");\n",
        "}"
      ]
    },
    {
      "cell_type": "markdown",
      "metadata": {},
      "source": [
        "### Що в дужках?\n",
        "\n",
        "Цикл `for` містить три частини: `int counter = 0`, `counter < 10`, і `counter++`.\n",
        "Давайте їх вважати як початкову точку, кінцеву точку та розмір кроку.\n",
        "`int counter = 0` це початкова точка. Ми починаємо з 0.\n",
        "`counter < 10` це умова, яка перевіряється на початку кожного циклу. Як тільки умова перестає виконуватися (у цьому випадку, як тільки лічильник рівний 10 і більше), цикл завершений і код рухається далі.\n",
        "`counter++` збільшує лічильник на один, рухаючись на крок ближче до завершення. Крок робиться в кінці кожного циклу.\n",
        "> Поексперементуємо з циклом `for`. Поглянемо що зміниться?"
      ]
    },
    {
      "cell_type": "markdown",
      "metadata": {},
      "source": [
        "# Пісочниця\n",
        "\n",
        "Поексперемернуємо з новими знаннями! Ось кілька ідей для початку:\n",
        "> Зробіть цикл, яка відраховується назад від 10.\n",
        ">\n",
        "> Зробіть цикл, який з кроком 2.\n",
        ">\n",
        "> Зробити цикл, який рахує від 7 до 22.\n",
        ">\n",
        "> Бонус: Зробіть вищезазначене з усіма трьома типами циклів."
      ]
    },
    {
      "cell_type": "code",
      "execution_count": null,
      "metadata": {
        "dotnet_interactive": {
          "language": "csharp"
        },
        "vscode": {
          "languageId": "dotnet-interactive.csharp"
        }
      },
      "outputs": [],
      "source": [
        "Console.WriteLine(\"Пісочниця тут\");"
      ]
    },
    {
      "cell_type": "markdown",
      "metadata": {},
      "source": [
        "# Продовжуємо навчання (Eng)\n",
        "\n",
        "Більше ресурсів для навчання!!\n",
        "> [⏩ Next Module - Combining Branches and Loops](http://tinyurl.com/csharp-notebook09)\n",
        ">\n",
        "> [⏪ Last Module - Branches (if)](http://tinyurl.com/csharp-notebook07)\n",
        ">\n",
        "> [Watch the video](https://www.youtube.com/watch?v=z31m5Up_gSQ&list=PLdo4fOcmZ0oVxKLQCHpiUWun7vlJJvUiN&index=10)\n",
        ">\n",
        "> [Documentation: Branches and Loops in C#](https://docs.microsoft.com/dotnet/csharp/tour-of-csharp/tutorials/branches-and-loops-local?WT.mc_id=Educationalcsharp-c9-scottha)\n",
        ">\n",
        "> [Start at the beginning: What is C#?](https://www.youtube.com/watch?v=BM4CHBmAPh4&list=PLdo4fOcmZ0oVxKLQCHpiUWun7vlJJvUiN&index=1)\n",
        ">\n",
        "\n",
        "# Інші ресурси\n",
        "\n",
        "Here's some more places to explore:\n",
        "> [Other 101 Videos](https://dotnet.microsoft.com/learn/videos?WT.mc_id=csharpnotebook-35129-website)\n",
        ">\n",
        "> [Microsoft Learn](https://docs.microsoft.com/learn/dotnet/?WT.mc_id=csharpnotebook-35129-website)\n",
        ">\n",
        "> [C# Documentation](https://docs.microsoft.com/dotnet/csharp/?WT.mc_id=csharpnotebook-35129-website)"
      ]
    }
  ],
  "metadata": {
    "kernelspec": {
      "display_name": ".NET (C#)",
      "language": "C#",
      "name": ".net-csharp"
    },
    "language_info": {
      "file_extension": ".cs",
      "mimetype": "text/x-csharp",
      "name": "C#",
      "pygments_lexer": "csharp",
      "version": "8.0"
    }
  },
  "nbformat": 4,
  "nbformat_minor": 4
}
