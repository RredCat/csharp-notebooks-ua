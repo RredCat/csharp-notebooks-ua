{
  "cells": [
    {
      "cell_type": "markdown",
      "metadata": {},
      "source": [
        "# Завданя: Поєднання Умов та Циклів\n",
        "\n",
        "Дивіться відео [C# 101 video En](https://www.youtube.com/watch?v=qK7tUpaOXi8&list=PLdo4fOcmZ0oVxKLQCHpiUWun7vlJJvUiN&index=11) для цього модуля.\n",
        "\n",
        "Ось завдання:\n",
        ">\n",
        "> Напишіть код на C#, що шукає суму всіх цілих чисел від 1 до 20, які діляться на 3.\n",
        ">\n",
        "Спочатку, спробуйте самостійно в цьому блокноті нижче, або у Visual Studio, або у коді Visual Studio."
      ]
    },
    {
      "cell_type": "code",
      "execution_count": null,
      "metadata": {
        "dotnet_interactive": {
          "language": "csharp"
        },
        "vscode": {
          "languageId": "dotnet-interactive.csharp"
        }
      },
      "outputs": [
        {
          "name": "stdout",
          "output_type": "stream",
          "text": [
            "Challenge\r\n"
          ]
        }
      ],
      "source": [
        "Console.WriteLine(\"Завданя\");"
      ]
    },
    {
      "cell_type": "markdown",
      "metadata": {},
      "source": [
        "## Поради та підказки\n",
        "\n",
        "- Оператор `%` дає повертає залішок від ділення.\n",
        "- Умова `if` дозволяє нам перевірити, чи число потрібно додати до кінцевого результату (суми).\n",
        "- Цикл `for` допоможе нам повторити ряд кроків для всіх чисел 1 - 20.\n",
        "- Отримати неправильну відповідь? Спробуйте виводити результат на кожному кроці, щоб зрозуміти на якому кроці помилка.\n",
        "\n",
        "## Перевірте відповідь\n",
        "\n",
        "Ваша відповідь повинна бути 63.\n",
        "\n",
        "## Отримати допомогу\n",
        "\n",
        "Застрягли?\n",
        "\n",
        "- Гляньте [video EN](https://www.youtube.com/watch?v=qK7tUpaOXi8&list=PLdo4fOcmZ0oVxKLQCHpiUWun7vlJJvUiN&index=11), як можна вирішити проблему. І спробуйте закінчити код самостійно!\n",
        "- Перевірте [розв'язок](https://github.com/dotnet/samples/blob/main/csharp/branches-quickstart/Program.cs#L87-L95)."
      ]
    },
    {
      "cell_type": "markdown",
      "metadata": {},
      "source": [
        "# Продовжуємо навчання (Eng)\n",
        "\n",
        "Більше ресурсів для навчання!\n",
        "> [⏩ Next Module - Arrays, Lists, and Collections](http://tinyurl.com/csharp-notebook10)\n",
        ">\n",
        "> [⏪ Last Module - What Are Loops](http://tinyurl.com/csharp-notebook08)\n",
        ">\n",
        "> [Watch the video](https://www.youtube.com/watch?v=qK7tUpaOXi8&list=PLdo4fOcmZ0oVxKLQCHpiUWun7vlJJvUiN&index=11)\n",
        ">\n",
        "> [Documentation: Branches and Loops in C#](https://docs.microsoft.com/dotnet/csharp/tour-of-csharp/tutorials/branches-and-loops-local?WT.mc_id=Educationalcsharp-c9-scottha)\n",
        ">\n",
        "> [Start at the beginning: What is C#?](https://www.youtube.com/watch?v=BM4CHBmAPh4&list=PLdo4fOcmZ0oVxKLQCHpiUWun7vlJJvUiN&index=1)"
      ]
    },
    {
      "cell_type": "markdown",
      "metadata": {},
      "source": [
        "# Інші ресурси\n",
        "\n",
        "Here's some more places to explore:\n",
        "> [Other 101 Videos](https://dotnet.microsoft.com/learn/videos?WT.mc_id=csharpnotebook-35129-website)\n",
        ">\n",
        "> [Microsoft Learn](https://docs.microsoft.com/learn/dotnet/?WT.mc_id=csharpnotebook-35129-website)\n",
        ">\n",
        "> [C# Documentation](https://docs.microsoft.com/dotnet/csharp/?WT.mc_id=csharpnotebook-35129-website)"
      ]
    }
  ],
  "metadata": {
    "kernelspec": {
      "display_name": ".NET (C#)",
      "language": "C#",
      "name": ".net-csharp"
    },
    "language_info": {
      "file_extension": ".cs",
      "mimetype": "text/x-csharp",
      "name": "C#",
      "pygments_lexer": "csharp",
      "version": "8.0"
    }
  },
  "nbformat": 4,
  "nbformat_minor": 4
}
