{
  "cells": [
    {
      "cell_type": "markdown",
      "metadata": {},
      "source": [
        "# Точність Десяткових Дробів і Цілих Чисел\n",
        "\n",
        "Дивіться відео [C# 101 video En](https://www.youtube.com/watch?v=31EmPADtv4w&list=PLdo4fOcmZ0oVxKLQCHpiUWun7vlJJvUiN&index=6) для цього модуля.\n",
        "\n",
        "Як ми дізналися в останньому модулі, під час виконання арефметичних операцій з цілими числами, ми отримуємо лише цілі числа, без десяткових дробів. Числа `truncated` (урізані) це означає, що залишок відрізано. Ви можете знайти залишок за допомогою оператора залишку `%`. Залишок — це число з ліва від коми числа, що утворюється після операції ділення.\n",
        "> Давайте спробуємо!"
      ]
    },
    {
      "cell_type": "code",
      "execution_count": null,
      "metadata": {
        "dotnet_interactive": {
          "language": "csharp"
        },
        "vscode": {
          "languageId": "dotnet-interactive.csharp"
        }
      },
      "outputs": [
        {
          "name": "stdout",
          "output_type": "stream",
          "text": [
            "ціле число: 3\r\n",
            "залишок: 2\r\n"
          ]
        }
      ],
      "source": [
        "int a = 7;\n",
        "int b = 4;\n",
        "int c = 3;\n",
        "int d = (a + b) / c;\n",
        "int e = (a + b) % c;\n",
        "Console.WriteLine($\"ціле число: {d}\");\n",
        "Console.WriteLine($\"залишок: {e}\");"
      ]
    },
    {
      "cell_type": "markdown",
      "metadata": {},
      "source": [
        "Про що це говорить? Коли ми візьмемо ділене `11` і поділимо його на дільник `3`, ми отримаєте `3,2`. Де `3` неповна частка, а `2` залишок.\n",
        "\n",
        "## Мінімальний і Максимальний Розмір Цілого Числа\n",
        "\n",
        "Через те, що цілі числа можуть займати обмежений об'єм пам'яті в компютері (є структурами), є обмеження на їх розмір.\n",
        "> Дізнайтеся, що це таке, запустивши наступний код!"
      ]
    },
    {
      "cell_type": "code",
      "execution_count": null,
      "metadata": {
        "dotnet_interactive": {
          "language": "csharp"
        },
        "vscode": {
          "languageId": "dotnet-interactive.csharp"
        }
      },
      "outputs": [
        {
          "name": "stdout",
          "output_type": "stream",
          "text": [
            "Діапазон для цілих від -2147483648 до 2147483647\r\n"
          ]
        }
      ],
      "source": [
        "int max = int.MaxValue;\n",
        "int min = int.MinValue;\n",
        "Console.WriteLine($\"Діапазон для цілих від {min} до {max}\");"
      ]
    },
    {
      "cell_type": "markdown",
      "metadata": {},
      "source": [
        "Це дуже багато!\n",
        "> Але що станеться, якщо ми вийдемо за ці значення?"
      ]
    },
    {
      "cell_type": "code",
      "execution_count": null,
      "metadata": {
        "dotnet_interactive": {
          "language": "csharp"
        },
        "vscode": {
          "languageId": "dotnet-interactive.csharp"
        }
      },
      "outputs": [
        {
          "name": "stdout",
          "output_type": "stream",
          "text": [
            "Приклад переповнення: -2147483646\r\n"
          ]
        }
      ],
      "source": [
        "int what = max + 3;\n",
        "Console.WriteLine($\"Приклад переповнення: {what}\");"
      ]
    },
    {
      "cell_type": "markdown",
      "metadata": {},
      "source": [
        "Цифра мала вийти дуже великою, а вона близька до мінімуму! Це тому, що трапилося переповнення - `overflow`. І результат \"загортається\" (як стрічка Мебіуса), повертається до мінімуму, а тоді продовжується підрахунок.\n",
        "\n",
        "## Подвійні (Double) - дійсний з подвійною точністю: Точність та Розмір\n",
        "\n",
        "Подвійні - це ще одна форма чисел. Вони можуть мати значення з плаваючою комою.\n",
        "> Запишемо код вище з використанням double і подививмося на різницю."
      ]
    },
    {
      "cell_type": "code",
      "execution_count": null,
      "metadata": {
        "dotnet_interactive": {
          "language": "csharp"
        },
        "vscode": {
          "languageId": "dotnet-interactive.csharp"
        }
      },
      "outputs": [
        {
          "name": "stdout",
          "output_type": "stream",
          "text": [
            "3,6666666666666665\r\n"
          ]
        }
      ],
      "source": [
        "double a = 7;\n",
        "double b = 4;\n",
        "double c = 3;\n",
        "double d = (a + b) / c;\n",
        "Console.WriteLine(d);"
      ]
    },
    {
      "cell_type": "markdown",
      "metadata": {},
      "source": [
        "> Ось складніший приклад:"
      ]
    },
    {
      "cell_type": "code",
      "execution_count": null,
      "metadata": {
        "dotnet_interactive": {
          "language": "csharp"
        },
        "vscode": {
          "languageId": "dotnet-interactive.csharp"
        }
      },
      "outputs": [
        {
          "name": "stdout",
          "output_type": "stream",
          "text": [
            "5,25\r\n"
          ]
        }
      ],
      "source": [
        "double a = 19;\n",
        "double b = 23;\n",
        "double c = 8;\n",
        "double d = (a + b) / c;\n",
        "Console.WriteLine(d);"
      ]
    },
    {
      "cell_type": "markdown",
      "metadata": {},
      "source": [
        "> Дізнаємося діапазон для double:"
      ]
    },
    {
      "cell_type": "code",
      "execution_count": null,
      "metadata": {
        "dotnet_interactive": {
          "language": "csharp"
        },
        "vscode": {
          "languageId": "dotnet-interactive.csharp"
        }
      },
      "outputs": [
        {
          "name": "stdout",
          "output_type": "stream",
          "text": [
            "Діапазон для double від -1,7976931348623157E+308 до 1,7976931348623157E+308\r\n"
          ]
        }
      ],
      "source": [
        "double max = double.MaxValue;\n",
        "double min = double.MinValue;\n",
        "Console.WriteLine($\"Діапазон для double від {min} до {max}\");"
      ]
    },
    {
      "cell_type": "markdown",
      "metadata": {},
      "source": [
        "Багацько! Набагато більше ніж у цілих.\n",
        "\n",
        "Звичайно double не ідеальні. У них також є помилки округлення.\n",
        "> Давайте подивимося:"
      ]
    },
    {
      "cell_type": "code",
      "execution_count": null,
      "metadata": {
        "dotnet_interactive": {
          "language": "csharp"
        },
        "vscode": {
          "languageId": "dotnet-interactive.csharp"
        }
      },
      "outputs": [
        {
          "name": "stdout",
          "output_type": "stream",
          "text": [
            "0,3333333333333333\r\n"
          ]
        }
      ],
      "source": [
        "double third = 1.0 / 3.0;\n",
        "Console.WriteLine(third);"
      ]
    },
    {
      "cell_type": "markdown",
      "metadata": {},
      "source": [
        "Технічно, результат ділення 1 на 3 це десятковий дріб де 3 повторюється нескінченно, але це не практично в програмуванні. Корисно знати, якщо потрібна надзвичайна точність (наука, гроші то що)."
      ]
    },
    {
      "cell_type": "markdown",
      "metadata": {},
      "source": [
        "# Пісочниця\n",
        "\n",
        "Використайте нові знання! Ідеї для старту:\n",
        "> Зробіть домашній або робочий проєкт де потрібні обчислення, а замість калюкулятора використайте програмування.\n",
        ">\n",
        "> Місяць знаходиться на відстані 238 855 миль від Землі. Якби ви писали програму, вам потрібно використовувати цілі числа чи з плаваючою комою? Що робити, якщо відстань потрібно перевести в дюйми? А як щодо сонця? Це 92,955,828 миль."
      ]
    },
    {
      "cell_type": "code",
      "execution_count": null,
      "metadata": {
        "dotnet_interactive": {
          "language": "csharp"
        },
        "vscode": {
          "languageId": "dotnet-interactive.csharp"
        }
      },
      "outputs": [
        {
          "name": "stdout",
          "output_type": "stream",
          "text": [
            "Пісочниця\r\n"
          ]
        }
      ],
      "source": [
        "Console.WriteLine(\"Пісочниця\");"
      ]
    },
    {
      "cell_type": "markdown",
      "metadata": {},
      "source": [
        "# Продовжуємо навчання (Eng)\n",
        "\n",
        "> [⏩ Наступний Модуль - Numbers and Decimals](http://tinyurl.com/csharp-notebook06)\n",
        ">\n",
        "> [⏪ Попередній Модуль - Numbers and Integer Math](http://tinyurl.com/csharp-notebook04)\n",
        ">\n",
        "> [Watch the video](https://www.youtube.com/watch?v=31EmPADtv4w&list=PLdo4fOcmZ0oVxKLQCHpiUWun7vlJJvUiN&index=6)\n",
        ">\n",
        "> [Документація: Numbers in C#](https://docs.microsoft.com/dotnet/csharp/tour-of-csharp/tutorials/numbers-in-csharp?WT.mc_id=Educationalcsharp-c9-scottha)\n",
        ">\n",
        "> [Розпочніть навчання: What is C#?](https://www.youtube.com/watch?v=BM4CHBmAPh4&list=PLdo4fOcmZ0oVxKLQCHpiUWun7vlJJvUiN&index=1)"
      ]
    },
    {
      "cell_type": "markdown",
      "metadata": {},
      "source": [
        "# Інші ресурси\n",
        "\n",
        "Here's some more places to explore:\n",
        "> [Other 101 Videos](https://dotnet.microsoft.com/learn/videos?WT.mc_id=csharpnotebook-35129-website)\n",
        ">\n",
        "> [Microsoft Learn](https://docs.microsoft.com/learn/dotnet/?WT.mc_id=csharpnotebook-35129-website)\n",
        ">\n",
        "> [C# Documentation](https://docs.microsoft.com/dotnet/csharp/?WT.mc_id=csharpnotebook-35129-website)"
      ]
    }
  ],
  "metadata": {
    "kernelspec": {
      "display_name": ".NET (C#)",
      "language": "C#",
      "name": ".net-csharp"
    },
    "language_info": {
      "file_extension": ".cs",
      "mimetype": "text/x-csharp",
      "name": "C#",
      "pygments_lexer": "csharp",
      "version": "8.0"
    }
  },
  "nbformat": 4,
  "nbformat_minor": 4
}
