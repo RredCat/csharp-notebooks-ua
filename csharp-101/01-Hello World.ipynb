{
  "cells": [
    {
      "cell_type": "markdown",
      "metadata": {},
      "source": [
        "# Привіт Світ\n",
        "\n",
        "Дивіться відео [C# 101 video (En)](https://www.youtube.com/watch?v=KT2VR7m19So&list=PLdo4fOcmZ0oVxKLQCHpiUWun7vlJJvUiN&index=2) для цього модуля.\n",
        "\n",
        "## Що робити з цим блокнотом?\n",
        "\n",
        "Цей блокнот допоможе вам вивчити мову програмування C#. З ним ви можете:\n",
        "\n",
        "- Виконати цей блокнот самостійно.\n",
        "- Виконати його, коли дивитеся C# 101 відео.\n",
        "- Використовувати цей блокнот як посібник, коли пиште власний код у Visual Studio.\n",
        "\n",
        "## Що таке C#?\n",
        "\n",
        "Це потужна і популярна мова програмування, яку використовують для створення веб сайтів, ігор, мобільних додатків, програм для комп'ютера та інших додатків. C# є частиною платформи .NET, яка включає бібліотеки для всіх цих програм. Вчіть C#, і вона відкриє для вас світ програмування.\n",
        "\n",
        "## C#: Привіт Світ\n",
        "\n",
        "Напишіть свою першу C# програму! Вона виведе \"Привіт Світ\" у консоль.\n",
        "> Наведіть курсор на код нижче. З лівого боку з’явиться маленький значок «грати». Натисніть на нього, і код запуститься!"
      ]
    },
    {
      "cell_type": "code",
      "execution_count": null,
      "metadata": {
        "dotnet_interactive": {
          "language": "csharp"
        },
        "vscode": {
          "languageId": "dotnet-interactive.csharp"
        }
      },
      "outputs": [],
      "source": [
        "Console.WriteLine(\"Привіт Світ!\");"
      ]
    },
    {
      "cell_type": "markdown",
      "metadata": {},
      "source": [
        "Метод `Console.WriteLine` використовують щоб вивести текст повідомлення у консоль. В даному випадку ви вказали \"Привіт Світ\".\n",
        "\n",
        "# Оголошення і використання змінних\n",
        "\n",
        "**Змінна (variable)** це об'єкт програми, який можна використовувати для запуску одного коду з різними значеннями. Наприклад, ви можете оголосити змінну з іменем `aFriend`, яку можна використовувати з методом `Console.WriteLine` для виведення тексту. Їй можна задати тип `string` (стрічка) або ключове слова `var` і тоді тип визначиться автоматично.\n",
        "\n",
        "> Запустіть код нижще, і побачите результат **Галя**\n",
        ">\n",
        "> Next, change the name in the variable and run it again to see something different."
      ]
    },
    {
      "cell_type": "code",
      "execution_count": null,
      "metadata": {
        "dotnet_interactive": {
          "language": "csharp"
        },
        "vscode": {
          "languageId": "dotnet-interactive.csharp"
        }
      },
      "outputs": [],
      "source": [
        "var aFriend = \"Галя\";\n",
        "Console.WriteLine(aFriend);"
      ]
    },
    {
      "cell_type": "markdown",
      "metadata": {},
      "source": [
        "# Обєднання стрічок (Strings)\n",
        "\n",
        "Думаю ви помітили, що в останньому блоці коду відсутнє слово «Привіт». Ви можете це виправити, об’єднавши кілька рядків за допомогою символа `+`, щоб створити новий рядок, який виведе на консоль.\n",
        "\n",
        "> Запустіть код, щоб отримати дружнє вітання!"
      ]
    },
    {
      "cell_type": "code",
      "execution_count": null,
      "metadata": {
        "dotnet_interactive": {
          "language": "csharp"
        },
        "vscode": {
          "languageId": "dotnet-interactive.csharp"
        }
      },
      "outputs": [],
      "source": [
        "Console.WriteLine(\"Привіт \" + aFriend + \"!\");"
      ]
    },
    {
      "cell_type": "markdown",
      "metadata": {},
      "source": [
        "# Інтерполяція стічок (String Interpolation)\n",
        "\n",
        "Ви використали \"+\", щоб створити новий рядок із **змінної (variable)** і **константи (constant)**. Але є кращий спосіб, розмістіть змінну між фігурними лапками `{` `}`, і C# вставить туди значенням змінної. Це називається **інтерполяція стрічок**. Обов'язково додайте знак долара `$` на початку стрічки, щоб увімкнути інтерполяцію."
      ]
    },
    {
      "cell_type": "code",
      "execution_count": null,
      "metadata": {
        "dotnet_interactive": {
          "language": "csharp"
        },
        "vscode": {
          "languageId": "dotnet-interactive.csharp"
        }
      },
      "outputs": [],
      "source": [
        "aFriend = \"інтерполяція стрічок\";\n",
        "Console.WriteLine($\"Привіт {aFriend}!\");"
      ]
    },
    {
      "cell_type": "markdown",
      "metadata": {},
      "source": [
        "Ви зробили це! Ви щойно створили свою першу програму на C# і навчилися об'єднувати та інтерполювати стрічки."
      ]
    },
    {
      "cell_type": "markdown",
      "metadata": {},
      "source": [
        "# Пісочниця: Спробуйте самі\n",
        "\n",
        "У кінці кожного модуля буде невелика «пісочниця». Це простір для вас, щоб спробувати написати код самостійно, а не тільки читати попередньо написаний код.\n",
        "Спробуйте надрукувати слова та змінні! Ось кілька підказок, щоб спробувати:\n",
        "> Надрукуйте ваше повне ім'я.\n",
        ">\n",
        "> Зробіть кілька змінних з своїми улюбленими стравами, а потім напишіть невелику історію з їх участю.\n",
        ">\n",
        "> **Завдання!**\n",
        ">\n",
        ">Зробіть свою власну Кумедну Бібліотеку! Створіть кілька змінних, наприклад дієслова, іменники тощо, а потім використовуючи їх складіть кілька речень. Попросіть друга змінити значення кожної змінної та прочитате що вийшло. Розважайтеся! "
      ]
    },
    {
      "cell_type": "code",
      "execution_count": null,
      "metadata": {
        "dotnet_interactive": {
          "language": "csharp"
        },
        "vscode": {
          "languageId": "dotnet-interactive.csharp"
        }
      },
      "outputs": [],
      "source": [
        "Console.WriteLine(\"Пісочниця тут!\");"
      ]
    },
    {
      "cell_type": "markdown",
      "metadata": {},
      "source": [
        "# Продовжуємо навчання (Eng)\n",
        "\n",
        "Більше ресурсів для навчання!\n",
        "> [⏩ Наступний модуль - Основи стрічок](http://tinyurl.com/csharp-notebook02)\n",
        ">\n",
        "> [Перегляньте відео](https://www.youtube.com/watch?v=KT2VR7m19So&list=PLdo4fOcmZ0oVxKLQCHpiUWun7vlJJvUiN&index=2)\n",
        ">\n",
        "> [Документація: Intro to C#](https://docs.microsoft.com/dotnet/csharp/tour-of-csharp/tutorials/hello-world?WT.mc_id=csharpnotebook-35129-website)"
      ]
    },
    {
      "cell_type": "markdown",
      "metadata": {},
      "source": [
        "# Інші ресурси\n",
        "\n",
        "> [Інші 101 Відео](https://dotnet.microsoft.com/learn/videos?WT.mc_id=csharpnotebook-35129-website)\n",
        ">\n",
        "> [Microsoft Learn](https://docs.microsoft.com/learn/dotnet/?WT.mc_id=csharpnotebook-35129-website)\n",
        ">\n",
        "> [C# Документація](https://docs.microsoft.com/dotnet/csharp/?WT.mc_id=csharpnotebook-35129-website)"
      ]
    }
  ],
  "metadata": {
    "kernelspec": {
      "display_name": ".NET (C#)",
      "language": "C#",
      "name": ".net-csharp"
    },
    "language_info": {
      "file_extension": ".cs",
      "mimetype": "text/x-csharp",
      "name": "C#",
      "pygments_lexer": "csharp",
      "version": "8.0"
    }
  },
  "nbformat": 4,
  "nbformat_minor": 4
}
