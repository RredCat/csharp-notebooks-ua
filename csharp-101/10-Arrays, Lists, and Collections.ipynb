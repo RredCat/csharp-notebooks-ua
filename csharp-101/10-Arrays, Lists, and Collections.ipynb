{
  "cells": [
    {
      "cell_type": "markdown",
      "metadata": {},
      "source": [
        "# Масиви, Списки та Колекції\n",
        "\n",
        "Дивіться відео [C# 101 video](https://www.youtube.com/watch?v=qLeF_wpnVto&list=PLdo4fOcmZ0oVxKLQCHpiUWun7vlJJvUiN&index=12) для цього модуля."
      ]
    },
    {
      "cell_type": "markdown",
      "metadata": {},
      "source": [
        "Масиви, списки та колекції будуть нам корисними. Давайте розглянемо список:\n",
        "> Запустіть код нижче. Чи виведе він те, що ви очікували?"
      ]
    },
    {
      "cell_type": "code",
      "execution_count": null,
      "metadata": {
        "dotnet_interactive": {
          "language": "csharp"
        },
        "vscode": {
          "languageId": "dotnet-interactive.csharp"
        }
      },
      "outputs": [],
      "source": [
        "using System;\n",
        "using System.Collections.Generic;\n",
        "\n",
        "var names = new List<string> { \"<ім'я>\", \"Галля\", \"Катруся\" };\n",
        "foreach (var name in names)\n",
        "{\n",
        "    Console.WriteLine($\"Привіт {name.ToUpper()}!\");\n",
        "}"
      ]
    },
    {
      "cell_type": "markdown",
      "metadata": {},
      "source": [
        "## Що означає цей код?\n",
        "\n",
        "- **System.collections.Generic**: це простір імен, який містить списки. Якщо ми не оголосимо його використання, ми повинні писати \"Systems.Collections.Generic.List\" Кожен раз, коли ми хочемо використати список. Так менше друкувати!\n",
        "- **var**: ми ставимо, коли у нас є змінна, але не знаємо чи нам не принципово, якого вона типу.\n",
        "- **List\\<string\\>**: це означає, що ми використовуємо список стрічок. Замість `string`, ми можемо поставити `int`, `double`, чи будь-який інший тип.\n",
        "- **foreach**: ше один цикл! Він проходить через кожен елемент у списку.\n",
        "- **name in names**: це стиль, якому віддають перевагу більшість людей. `names` - це весь список, який містить  імена. `name` це індивідуальний елемент у `names`."
      ]
    },
    {
      "cell_type": "markdown",
      "metadata": {},
      "source": [
        "## Альтернативний метод\n",
        "\n",
        "Попередній код зрозумілий для людини, але код нижче детальніше описує що відбувається, і ми це вже вчили.\n",
        "Це лише два різні стилі написання одного і того ж коду. Не соромтеся використовувати обидва, якщо ви бачите в тому сенс!\n",
        "> Запустіть наступний код.\n",
        ">\n",
        "> Чи можете ви визначити подібні частини коду?\n",
        ">\n",
        "> Якому методу ви віддаєте перевагу?"
      ]
    },
    {
      "cell_type": "code",
      "execution_count": null,
      "metadata": {
        "dotnet_interactive": {
          "language": "csharp"
        },
        "vscode": {
          "languageId": "dotnet-interactive.csharp"
        }
      },
      "outputs": [],
      "source": [
        "using System;\n",
        "using System.Collections.Generic;\n",
        "\n",
        "var names = new List<string> { \"<ім'я>\", \"Галля\", \"Катруся\" };\n",
        "for (int i = 0;i < names.Count; i++)\n",
        "{\n",
        "    Console.WriteLine($\"Привіт {names[i].ToUpper()}\");\n",
        "}"
      ]
    },
    {
      "cell_type": "markdown",
      "metadata": {},
      "source": [
        "## Метод Add\n",
        "\n",
        "Ми можемо легко додати імена до списку. Списки мають метод `Add()`, який додає новий елемента в кінець списку.\n",
        "> Запустіть код.\n",
        ">\n",
        "> Потім спробуйте додати власне ім’я до списку."
      ]
    },
    {
      "cell_type": "code",
      "execution_count": null,
      "metadata": {
        "dotnet_interactive": {
          "language": "csharp"
        },
        "vscode": {
          "languageId": "dotnet-interactive.csharp"
        }
      },
      "outputs": [],
      "source": [
        "var names = new List<string> { \"<ім'я>\", \"Галя\", \"Катруся\" };\n",
        "\n",
        "names.Add(\"Софія\");\n",
        "\n",
        "foreach (var name in names)\n",
        "{\n",
        "    Console.WriteLine($\"Привіт {name.ToUpper()}!\");\n",
        "}"
      ]
    },
    {
      "cell_type": "markdown",
      "metadata": {},
      "source": [
        "## Метод Remove\n",
        "\n",
        "Ви також можете видалити ім'я. Спробуйте:\n",
        "\n",
        "> Запустіть код.\n",
        ">\n",
        "> Виберіть, яке ім'я ви хочете видалити.\n",
        ">\n",
        "> Що трапиться, якщо ми намагаємося видалити ім'я, якого немає в списку?"
      ]
    },
    {
      "cell_type": "code",
      "execution_count": null,
      "metadata": {
        "dotnet_interactive": {
          "language": "csharp"
        },
        "vscode": {
          "languageId": "dotnet-interactive.csharp"
        }
      },
      "outputs": [],
      "source": [
        "var names = new List<string> { \"<ім'я>\", \"Галя\", \"Катруся\" };\n",
        "\n",
        "names.Remove(\"<ім'я>\");\n",
        "\n",
        "for (int i = 0;i < names.Count; i++)\n",
        "{\n",
        "    Console.WriteLine($\"Привіт {names[i].ToUpper()}\");\n",
        "}"
      ]
    },
    {
      "cell_type": "markdown",
      "metadata": {},
      "source": [
        "## Вивід конкретного елемента\n",
        "\n",
        "Що робити, якщо ми не хочемо виводити всі елементів списку? Якщо нам потрібно вивести один елемент? Ось тут приходять дужки.\n",
        "> Запустіть код.\n",
        ">\n",
        "> Спробуйте вивести інший елемент у списку.\n",
        ">\n",
        "> Перший елемент у списку позначається 0 чи 1?"
      ]
    },
    {
      "cell_type": "code",
      "execution_count": null,
      "metadata": {
        "dotnet_interactive": {
          "language": "csharp"
        },
        "vscode": {
          "languageId": "dotnet-interactive.csharp"
        }
      },
      "outputs": [],
      "source": [
        "var names = new List<string> { \"<ім'я>\", \"Галя\", \"Катруся\" };\n",
        "Console.WriteLine(names[1]);"
      ]
    },
    {
      "cell_type": "markdown",
      "metadata": {},
      "source": [
        "Не забувайте, що списки починаються з \"0\" елементу. Перше елемент - це \"0\" індекс."
      ]
    },
    {
      "cell_type": "markdown",
      "metadata": {},
      "source": [
        "# Пісочниця\n",
        "\n",
        "Поексперементуйте, з новими знаннями! Ось кілька ідей:\n",
        "> Створіть список покупок, назвіть його `groceries` і додайте товари які хочете купити.\n",
        ">\n",
        "> Виведіть \"купити \\<grocery\\>!\" для кожного елементу списку.\n",
        ">\n",
        "> Виведіть третій елемент списку. Гляньте чи він такий самий, що і `groceries[3]?`\n",
        ">\n",
        "> Обов’язково додайте \"зубну пасту\".\n",
        ">\n",
        "> Видаліть найменший улюблений предмет.\n",
        ">\n",
        "> Який елемент третій у вашому списку тепер?"
      ]
    },
    {
      "cell_type": "code",
      "execution_count": null,
      "metadata": {
        "dotnet_interactive": {
          "language": "csharp"
        },
        "vscode": {
          "languageId": "dotnet-interactive.csharp"
        }
      },
      "outputs": [],
      "source": [
        "Console.WriteLine(\"Пісочниця тут\");"
      ]
    },
    {
      "cell_type": "markdown",
      "metadata": {},
      "source": [
        "# Продовжуємо навчання (Eng)\n",
        "\n",
        "Більше ресурсів для навчання!\n",
        "> [⏩ Наступний модуль - Пошук, сортування та індексація списків](http://tinyurl.com/csharp-notebook11)\n",
        ">\n",
        "> [⏪ Попередній модуль -  Поєднання Умов та Циклів](http://tinyurl.com/csharp-notebook09)\n",
        ">\n",
        "> [Перегляньте відео (En)](https://www.youtube.com/watch?v=qLeF_wpnVto&list=PLdo4fOcmZ0oVxKLQCHpiUWun7vlJJvUiN&index=12)\n",
        ">\n",
        "> [Документація: масиви, списки та колекції (En)](https://docs.microsoft.com/dotnet/csharp/tour-of-csharp/tutorials/arrays-and-collections?WT.mc_id=Educationalcsharp-c9-scottha)\n",
        ">\n",
        "> [Почніть спочатку: що таке C#? (En)](https://www.youtube.com/watch?v=BM4CHBmAPh4&list=PLdo4fOcmZ0oVxKLQCHpiUWun7vlJJvUiN&index=1)"
      ]
    },
    {
      "cell_type": "markdown",
      "metadata": {},
      "source": [
        "# Інші ресурси\n",
        "\n",
        "Here's some more places to explore:\n",
        "> [Інші 101 Відео (En)](https://dotnet.microsoft.com/learn/videos?WT.mc_id=csharpnotebook-35129-website)\n",
        ">\n",
        "> [Microsoft Learn](https://docs.microsoft.com/learn/dotnet/?WT.mc_id=csharpnotebook-35129-website)\n",
        ">\n",
        "> [C# Документація (En)](https://docs.microsoft.com/dotnet/csharp/?WT.mc_id=csharpnotebook-35129-website)"
      ]
    }
  ],
  "metadata": {
    "kernelspec": {
      "display_name": ".NET (C#)",
      "language": "C#",
      "name": ".net-csharp"
    },
    "language_info": {
      "file_extension": ".cs",
      "mimetype": "text/x-csharp",
      "name": "C#",
      "pygments_lexer": "csharp",
      "version": "8.0"
    }
  },
  "nbformat": 4,
  "nbformat_minor": 4
}
