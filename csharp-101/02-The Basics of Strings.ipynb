{
  "cells": [
    {
      "cell_type": "markdown",
      "metadata": {},
      "source": [
        "# Основи стрічок (Strings)\n",
        "Дивіться повне відео [C# 101 video En](https://www.youtube.com/watch?v=JSpC7Cz64h0&list=PLdo4fOcmZ0oVxKLQCHpiUWun7vlJJvUiN&index=3) для цього модуля.\n",
        "\n",
        "## Що таке стрічки,\n",
        "\n",
        "Стрічка це послідовність символів. Гарна метафора - це намисто, на яке ви нанизуєте намистинки-літери, щоб утворити слово."
      ]
    },
    {
      "cell_type": "markdown",
      "metadata": {},
      "source": [
        "## Стрічки і стрічкові літерали (String Literals)\n",
        "\n",
        "`firstFriend` і `secondFriend` це змінні типу стрічка. Текст всередині `Console.WriteLine` також стрічка. Це **стрічковий літерал (string literal)**. Стрічкові літерали це текст що представляє незмінну (const) стрічку. Константами (const) називають змінні які не можна змінювати під час виконання програми.\n",
        "\n",
        "> Спробуйте як це працює. Натисніть \"грати\" і подивіться, що вийде.\n",
        ">\n",
        "> Далі замініть значення змінних і оцініть результат."
      ]
    },
    {
      "cell_type": "code",
      "execution_count": null,
      "metadata": {
        "dotnet_interactive": {
          "language": "csharp"
        },
        "vscode": {
          "languageId": "dotnet-interactive.csharp"
        }
      },
      "outputs": [],
      "source": [
        "string firstFriend = \"Галина\";\n",
        "string secondFriend = \"Катерина\";\n",
        "Console.WriteLine($\"My friends are {firstFriend} and {secondFriend}\");"
      ]
    },
    {
      "cell_type": "markdown",
      "metadata": {},
      "source": [
        "## Властивості стрічок\n",
        "\n",
        "При дослідженні стрічок ви побачите, що стрічки — це більше, ніж набір букв. Ви можете знайти довжину стрічки за допомогою властивості `Length`. \"Length\" - це **властивість** рядка, і вона повертає кількість символів у цьому рядку.\n",
        "\n",
        "> Спробуйте, подививіться яку довжину мають імена друзів:"
      ]
    },
    {
      "cell_type": "code",
      "execution_count": null,
      "metadata": {
        "dotnet_interactive": {
          "language": "csharp"
        },
        "vscode": {
          "languageId": "dotnet-interactive.csharp"
        }
      },
      "outputs": [],
      "source": [
        "Console.WriteLine($\"Ім'я {firstFriend} має {firstFriend.Length} літер.\");\n",
        "Console.WriteLine($\"Ім'я {secondFriend} має {secondFriend.Length} літер.\");"
      ]
    },
    {
      "cell_type": "markdown",
      "metadata": {},
      "source": [
        "# Методи стрічок\n",
        "\n",
        "## Пробіли на краях стрічки\n",
        "\n",
        "Нехай ваші стрічки мають пробіли на початку і в кінці (їх ще називають **white space**) які ви не хочете показувати. Ви хочете обрізати пробіли з країв стрічок. `Trim` метод і подібні методі `TrimStart` і `TrimEnd` зроблять це для вас.Використовуйте ці методи, щоб видалити пробіли на початку та в кінці стрічки.\n",
        "\n",
        "> Пограйтесь з обрізанням стрічок у коді. Дужки допоможуть побачити пробіли."
      ]
    },
    {
      "cell_type": "code",
      "execution_count": null,
      "metadata": {
        "dotnet_interactive": {
          "language": "csharp"
        },
        "vscode": {
          "languageId": "dotnet-interactive.csharp"
        }
      },
      "outputs": [],
      "source": [
        "string greeting = \"      Привіт Світ!       \";\n",
        "Console.WriteLine($\"[{greeting}]\");\n",
        "\n",
        "string trimmedGreeting = greeting.TrimStart();\n",
        "Console.WriteLine($\"[{trimmedGreeting}]\");\n",
        "\n",
        "trimmedGreeting = greeting.TrimEnd();\n",
        "Console.WriteLine($\"[{trimmedGreeting}]\");\n",
        "\n",
        "trimmedGreeting = greeting.Trim();\n",
        "Console.WriteLine($\"[{trimmedGreeting}]\");"
      ]
    },
    {
      "cell_type": "markdown",
      "metadata": {},
      "source": [
        "## Заміна (Replace)\n",
        "\n",
        "Ви можете замінити одну підстрічку на іншу. Наприклад, у коді нижче (\"Привіт Світ!\") \"Привіт\" міняють на \"Салют\", щоб війшло \"Салют Світ!\".\n",
        "\n",
        "> Спробуй. Чим ще можна замінити «Привіт»?"
      ]
    },
    {
      "cell_type": "code",
      "execution_count": null,
      "metadata": {
        "dotnet_interactive": {
          "language": "csharp"
        },
        "vscode": {
          "languageId": "dotnet-interactive.csharp"
        }
      },
      "outputs": [],
      "source": [
        "string sayHello = \"Привіт Світ!\";\n",
        "Console.WriteLine(sayHello);\n",
        "sayHello = sayHello.Replace(\"Привіт\", \"Салют\");\n",
        "Console.WriteLine(sayHello);"
      ]
    },
    {
      "cell_type": "markdown",
      "metadata": {},
      "source": [
        "## Зміна регістру (великі та малі літери)\n",
        "\n",
        "Інколи вам потрібно змінити регістр всіх літер в стрічці. `ToUpper` і `ToLower` зроблять це.\n",
        "> Наступний приклад дещо заплутаний. Виправте це так, щоб \"шепіт\" був лише малим, а \"крик\" був великим?"
      ]
    },
    {
      "cell_type": "code",
      "execution_count": null,
      "metadata": {
        "dotnet_interactive": {
          "language": "csharp"
        },
        "vscode": {
          "languageId": "dotnet-interactive.csharp"
        }
      },
      "outputs": [],
      "source": [
        "Console.WriteLine(\"ШеПіТ\".ToUpper());\n",
        "Console.WriteLine(\"кРиК\".ToLower());"
      ]
    },
    {
      "cell_type": "markdown",
      "metadata": {},
      "source": [
        "# Пісочниця\n",
        "\n",
        "Тепер ваша черга застосувати нові зняння. Виконайте ці вправи:\n",
        "> Створіть три змінні з іменами різних людей.\n",
        ">\n",
        "> Знайдіть довжину імені першої особи, ім'я другої зробіть великими літерами, а третьої – малими.\n",
        ">\n",
        "> Скільки літер у стрічці \"суперкаліфрагілістичномуекспіалідоціозному\"?\n",
        ">\n",
        "> Скільки літер вилучиться, якщо ви обріжите (trim) наступний рядок \"       браслет дружби     \"? Чи буде видалений пробіл по середині стрічки?\n",
        ">\n",
        "> Побешкетуйте, і вигадайте завдання самі!"
      ]
    },
    {
      "cell_type": "code",
      "execution_count": null,
      "metadata": {
        "dotnet_interactive": {
          "language": "csharp"
        },
        "vscode": {
          "languageId": "dotnet-interactive.csharp"
        }
      },
      "outputs": [],
      "source": [
        "Console.WriteLine(\"Пісочниця\");\n",
        "Console.WriteLine(\"суперкаліфрагілістичномуекспіалідоціозному\");\n",
        "Console.WriteLine(\"       браслет дружби     \");"
      ]
    },
    {
      "cell_type": "markdown",
      "metadata": {},
      "source": [
        "# Продовжуємо навчання (Eng)\n",
        "\n",
        "Більше ресурсів для навчання!\n",
        "> [⏩ Наступний модуль - Пошук стрічок](http://tinyurl.com/csharp-notebook03)\n",
        ">\n",
        "> [⏪ Попередній модуль - Привіт Світ](http://tinyurl.com/csharp-notebook01)\n",
        ">\n",
        "> [Перегляньте відео](https://www.youtube.com/watch?v=JSpC7Cz64h0&list=PLdo4fOcmZ0oVxKLQCHpiUWun7vlJJvUiN&index=3)\n",
        ">\n",
        "> [Документація: Intro to C#](https://docs.microsoft.com/dotnet/csharp/tour-of-csharp/tutorials/hello-world?WT.mc_id=csharpnotebook-35129-website)\n",
        ">\n",
        "> [Start at the beginning: What is C#?](https://www.youtube.com/watch?v=BM4CHBmAPh4&list=PLdo4fOcmZ0oVxKLQCHpiUWun7vlJJvUiN&index=1)"
      ]
    },
    {
      "cell_type": "markdown",
      "metadata": {},
      "source": [
        "# Інші ресурси\n",
        "\n",
        "Here's some more places to explore:\n",
        "> [Інші 101 Відео](https://dotnet.microsoft.com/learn/videos?WT.mc_id=csharpnotebook-35129-website)\n",
        ">\n",
        "> [Microsoft Learn](https://docs.microsoft.com/learn/dotnet/?WT.mc_id=csharpnotebook-35129-website)\n",
        ">\n",
        "> [C# Documentation](https://docs.microsoft.com/dotnet/csharp/?WT.mc_id=csharpnotebook-35129-website)"
      ]
    }
  ],
  "metadata": {
    "kernelspec": {
      "display_name": ".NET (C#)",
      "language": "C#",
      "name": ".net-csharp"
    },
    "language_info": {
      "file_extension": ".cs",
      "mimetype": "text/x-csharp",
      "name": "C#",
      "pygments_lexer": "csharp",
      "version": "8.0"
    }
  },
  "nbformat": 4,
  "nbformat_minor": 4
}
