{
  "cells": [
    {
      "cell_type": "markdown",
      "metadata": {},
      "source": [
        "# Пошук у Стрічках \n",
        "\n",
        "Дивіться відео [C# 101 video En](https://www.youtube.com/watch?v=JL30gSE3WaQ&list=PLdo4fOcmZ0oVxKLQCHpiUWun7vlJJvUiN&index=4) для цього модуля."
      ]
    },
    {
      "cell_type": "markdown",
      "metadata": {},
      "source": [
        "## Contains\n",
        "\n",
        "Чи ваш рядок містить інший рядок? Ви можете використати метод `Contains`, щоб дізнатися!\n",
        "Метод `Contains` повертає *логічне значення (boolean)*. Це тип, представлений ключовим словом `bool`, яке може містити два значення: `true` (правда) або `false` (неправда). У нашому випадку метод повертає `true`, коли шуканий рядок знайдено, і `false`, якщо його не знайдено.\n",
        "> Запустіть наступний код.\n",
        ">\n",
        "> Що ще включають стрічки, а що ні?\n",
        ">\n",
        "> Чи має великі/малі літери значення?\n",
        ">\n",
        "> Запам’ятайте значення (тип `bool`), що повертається методом `Contains`."
      ]
    },
    {
      "cell_type": "code",
      "execution_count": null,
      "metadata": {
        "dotnet_interactive": {
          "language": "csharp"
        },
        "vscode": {
          "languageId": "dotnet-interactive.csharp"
        }
      },
      "outputs": [
        {
          "name": "stdout",
          "output_type": "stream",
          "text": [
            "True\r\n",
            "False\r\n"
          ]
        }
      ],
      "source": [
        "string songLyrics = \"Ти прощаєшся, а я вітаюся\";\n",
        "Console.WriteLine(songLyrics.Contains(\"прощаєшся\"));\n",
        "Console.WriteLine(songLyrics.Contains(\"привіт\"));"
      ]
    },
    {
      "cell_type": "markdown",
      "metadata": {},
      "source": [
        "## Методи StartsWith і EndsWith\n",
        "\n",
        "`StartsWith` і `EndsWith` методи подібні до `Contains`, але більш конкретні. Вони повідомляють, чи починається рядок із рядка, який ви перевіряєте і чи закінчується ним відповідно. Їх використовують так само як і `Contains`, наприклад: `bigstring.StartsWith(substring)`\n",
        "> Спробуйте!\n",
        "> У коді нижче допишіть код, щоб побачити, рядок починається з «Ти» чи «Я».\n",
        "> Далі перевірте, чи закінчується рядок на \"вітаюся\" чи \"прощаюся\". "
      ]
    },
    {
      "cell_type": "code",
      "execution_count": null,
      "metadata": {
        "dotnet_interactive": {
          "language": "csharp"
        },
        "vscode": {
          "languageId": "dotnet-interactive.csharp"
        }
      },
      "outputs": [],
      "source": [
        "string songLyrics = \"Ти прощаєшся, а я вітаюся\";"
      ]
    },
    {
      "cell_type": "markdown",
      "metadata": {},
      "source": [
        "# Пісочниця\n",
        "\n",
        "Пограйтеся з кодом, застосуйте нові знання! Ось кілька ідей для початку:\n",
        "> Скільки рядків містять \"Ти\" чи \"Ти\"?\n",
        "> Які рядки починаються на \"Ти\"?\n",
        "> Які рядки закінчуються на \"ні\"?\n",
        "> Згадайте попередній модуль. Зробіть всі букви у парних рядках великими, а у непарних маленькими?\n",
        "> Чи впливає регістр (великі і малі літери) на `Contains`? А на `StartsWith` і `EndsWith`?"
      ]
    },
    {
      "cell_type": "code",
      "execution_count": null,
      "metadata": {
        "dotnet_interactive": {
          "language": "csharp"
        },
        "vscode": {
          "languageId": "dotnet-interactive.csharp"
        }
      },
      "outputs": [
        {
          "name": "stdout",
          "output_type": "stream",
          "text": [
            "Пісочниця\r\n"
          ]
        }
      ],
      "source": [
        "Console.WriteLine(\"Пісочниця\");\n",
        "String line1 = \"Ти кажете так, я кажу ні\";\n",
        "String line2 = \"Ти кажеш стоп, а я кажу вперед, вперед, вперед\";\n",
        "String line3 = \"О ні\";\n",
        "String line4 = \"Ти прощаєшся, а я вітаюся\";\n",
        "String line5 = \"Привіт, привіт\";\n",
        "String line6 = \"Я не знаю, чому ти прощаєшся, я вітаюся\";"
      ]
    },
    {
      "cell_type": "markdown",
      "metadata": {},
      "source": [
        "# Продовжуємо навчання (Eng)\n",
        "\n",
        "Більше ресурсів для навчання!\n",
        "> [⏩ Наступний модуль - Числа, Цілі та Математичні операції](http://tinyurl.com/csharp-notebook04)\n",
        ">\n",
        "> [⏪ Попередній модель - Основи стрічок (Strings)](http://tinyurl.com/csharp-notebook02)\n",
        ">\n",
        "> [Перегляньте відео](https://www.youtube.com/watch?v=JL30gSE3WaQ&list=PLdo4fOcmZ0oVxKLQCHpiUWun7vlJJvUiN&index=4)\n",
        ">\n",
        "> [Документація: Intro to C#](https://docs.microsoft.com/dotnet/csharp/tour-of-csharp/tutorials/hello-world?WT.mc_id=csharpnotebook-35129-website)\n",
        ">\n",
        "> [Start at the beginning: What is C#?](https://www.youtube.com/watch?v=BM4CHBmAPh4&list=PLdo4fOcmZ0oVxKLQCHpiUWun7vlJJvUiN&index=1)"
      ]
    },
    {
      "cell_type": "markdown",
      "metadata": {},
      "source": [
        "# Інші ресурси\n",
        "\n",
        "Here's some more places to explore:\n",
        "> [Інші 101 Videos](https://dotnet.microsoft.com/learn/videos?WT.mc_id=csharpnotebook-35129-website)\n",
        ">\n",
        "> [Microsoft Learn](https://docs.microsoft.com/learn/dotnet/?WT.mc_id=csharpnotebook-35129-website)\n",
        ">\n",
        "> [C# Documentation](https://docs.microsoft.com/dotnet/csharp/?WT.mc_id=csharpnotebook-35129-website)"
      ]
    }
  ],
  "metadata": {
    "kernelspec": {
      "display_name": ".NET (C#)",
      "language": "C#",
      "name": ".net-csharp"
    },
    "language_info": {
      "file_extension": ".cs",
      "mimetype": "text/x-csharp",
      "name": "C#",
      "pygments_lexer": "csharp",
      "version": "8.0"
    }
  },
  "nbformat": 4,
  "nbformat_minor": 4
}
