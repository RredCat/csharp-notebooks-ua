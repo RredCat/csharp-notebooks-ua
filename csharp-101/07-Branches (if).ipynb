{
  "cells": [
    {
      "cell_type": "markdown",
      "metadata": {},
      "source": [
        "# Дужки (if)\n",
        "\n",
        "Дивіться відео [C# 101 video En](https://www.youtube.com/watch?v=y4OTe8LSokg&list=PLdo4fOcmZ0oVxKLQCHpiUWun7vlJJvUiN&index=8) для цього модуля."
      ]
    },
    {
      "cell_type": "markdown",
      "metadata": {},
      "source": [
        "## Основи If\n",
        "\n",
        "Оператор if використовують для приняття рішеннь який код виконати.\n",
        "\n",
        "> Спробуйте наш перший оператор if:"
      ]
    },
    {
      "cell_type": "code",
      "execution_count": null,
      "metadata": {
        "dotnet_interactive": {
          "language": "csharp"
        },
        "vscode": {
          "languageId": "dotnet-interactive.csharp"
        }
      },
      "outputs": [],
      "source": [
        "int a = 5;\n",
        "int b = 6;\n",
        "if (a + b > 10)\n",
        "    Console.WriteLine(\"Відповідь більше 10.\");"
      ]
    },
    {
      "cell_type": "markdown",
      "metadata": {},
      "source": [
        "Словами це можна описати так - \"якщо а додати b більше 10, напишіть 'Відповідь перевищує 10.'\".\n",
        "> Що буде, якщо a + b менше 10? Відредагуйте попередній код, і подивіться.\n",
        "\n",
        "Нічого не сталося? Чудово! Оскільки **умова** (a + b більше 10), не була виконана, програма нічого не надрукувала."
      ]
    },
    {
      "cell_type": "markdown",
      "metadata": {},
      "source": [
        "## Що таке умова?\n",
        "\n",
        "`Умова` - це твердження в дужках після `if`. Результат `умови` - це логічний вираз, який може мати значення правда (`True`) або неправда (`False`). Це дозволяє використовути наступні символи `>`, `<`, `<=`, `> =` або `==`.\n",
        "> Поеексперементуйте. Використайте різні символи та цифри, оцініть відповідь."
      ]
    },
    {
      "cell_type": "code",
      "execution_count": null,
      "metadata": {
        "dotnet_interactive": {
          "language": "csharp"
        },
        "vscode": {
          "languageId": "dotnet-interactive.csharp"
        }
      },
      "outputs": [],
      "source": [
        "bool outcome = 3 > 5;\n",
        "Console.WriteLine(\"Ця умова \" + outcome);"
      ]
    },
    {
      "cell_type": "markdown",
      "metadata": {},
      "source": [
        "## Інакше (Else)\n",
        "\n",
        "Раніше, якщо умова `if` не виконувалася, то блок коду який за нею слідує не виконувався. Але що робити, якщо ми хочемо, щоб щось сталося в обох випадках? Інакше `else` - так ми позначаємо блок коду який виконається, якщо умова не виконається.\n",
        "\n",
        "> Запустіть код нижче і змініть умову кілька раз, щоб оцінити різні результати."
      ]
    },
    {
      "cell_type": "code",
      "execution_count": null,
      "metadata": {
        "dotnet_interactive": {
          "language": "csharp"
        },
        "vscode": {
          "languageId": "dotnet-interactive.csharp"
        }
      },
      "outputs": [],
      "source": [
        "int a = 5;\n",
        "int b = 3;\n",
        "if (a + b > 10)\n",
        "    Console.WriteLine(\"Відповідь більше 10\");\n",
        "else\n",
        "    Console.WriteLine(\"Відповідь менша або рівна 10\");"
      ]
    },
    {
      "cell_type": "markdown",
      "metadata": {},
      "source": [
        "## Багаторядкові If умови\n",
        "\n",
        "Що робити, якщо нам потрібно написати багато коду в середині `if` умови? Просто додайте фігурні дужки навколо блоку коду, який виконається після умови.\n",
        "\n",
        "> Спробумо! Запустіть код нижче."
      ]
    },
    {
      "cell_type": "code",
      "execution_count": null,
      "metadata": {
        "dotnet_interactive": {
          "language": "csharp"
        },
        "vscode": {
          "languageId": "dotnet-interactive.csharp"
        }
      },
      "outputs": [],
      "source": [
        "int c = 4;\n",
        "if ((a + b + c > 10) && (a == b))\n",
        "{\n",
        "    Console.WriteLine(\"Відповідь більше 10\");\n",
        "    Console.WriteLine(\"І перше число дорівнює другому\");\n",
        "}\n",
        "else\n",
        "{\n",
        "    Console.WriteLine(\"Відповідь не більше 10\");\n",
        "    Console.WriteLine(\"Або перше число не дорівнює другому\");\n",
        "}"
      ]
    },
    {
      "cell_type": "markdown",
      "metadata": {},
      "source": [
        "`&&` означає \"і\". Це спосіб зв’язати кілька умов в одну. Ви також можете використовувати `||` як \"або\".\n",
        "\n",
        "  Вище умова `if` перевіряє що сума \"a\", \"b\", і \"c\" більше 10 і що \"a\" рівна \"b\". Якщо обидві умови виконуються то виконується блок коду всередині `if`; в іншому випадку виконується блок коду `else`."
      ]
    },
    {
      "cell_type": "markdown",
      "metadata": {},
      "source": [
        "# Пісочниця\n",
        "\n",
        "Поексперементуйте з новими заннями! Ось кілька ідей для прикладу:\n",
        "> Замініть \"&&\" на \"||\" в попередньому коді. За яких умов тепер код буде виконуватися?\n",
        ">\n",
        "> Що станеться, якщо ви поставите if оператор в середину іншого if оператора (вкладені умови)?\n",
        ">\n",
        "> Can you draw out the flow of an if statement? A nested if statement?"
      ]
    },
    {
      "cell_type": "code",
      "execution_count": null,
      "metadata": {
        "dotnet_interactive": {
          "language": "csharp"
        },
        "vscode": {
          "languageId": "dotnet-interactive.csharp"
        }
      },
      "outputs": [],
      "source": [
        "Console.WriteLine(\"Пісочниця\");"
      ]
    },
    {
      "cell_type": "markdown",
      "metadata": {},
      "source": [
        "# Продовжуємо навчання (Eng)\n",
        "\n",
        "Більше ресурсів для навчання!\n",
        "> [⏩ Наступний Модуль - What Are Loops](http://tinyurl.com/csharp-notebook08)\n",
        ">\n",
        "> [⏪ Попередній Модуль - Numbers and Decimal](http://tinyurl.com/csharp-notebook06)\n",
        ">\n",
        "> [Watch the video](https://www.youtube.com/watch?v=KT2VR7m19So&list=PLdo4fOcmZ0oVxKLQCHpiUWun7vlJJvUiN&index=2)\n",
        ">\n",
        "> [Документація: Branches and Loops in C#](https://docs.microsoft.com/dotnet/csharp/tour-of-csharp/tutorials/branches-and-loops-local?WT.mc_id=Educationalcsharp-c9-scottha)\n",
        ">\n",
        "> [Start at the beginning: What is C#?](https://www.youtube.com/watch?v=BM4CHBmAPh4&list=PLdo4fOcmZ0oVxKLQCHpiUWun7vlJJvUiN&index=1)"
      ]
    },
    {
      "cell_type": "markdown",
      "metadata": {},
      "source": [
        "# Інші ресурси\n",
        "\n",
        "Here's some more places to explore:\n",
        "> [Other 101 Videos](https://dotnet.microsoft.com/learn/videos?WT.mc_id=csharpnotebook-35129-website)\n",
        ">\n",
        "> [Microsoft Learn](https://docs.microsoft.com/learn/dotnet/?WT.mc_id=csharpnotebook-35129-website)\n",
        ">\n",
        "> [C# Documentation](https://docs.microsoft.com/dotnet/csharp/?WT.mc_id=csharpnotebook-35129-website)"
      ]
    }
  ],
  "metadata": {
    "kernelspec": {
      "display_name": ".NET (C#)",
      "language": "C#",
      "name": ".net-csharp"
    },
    "language_info": {
      "file_extension": ".cs",
      "mimetype": "text/x-csharp",
      "name": "C#",
      "pygments_lexer": "csharp",
      "version": "8.0"
    }
  },
  "nbformat": 4,
  "nbformat_minor": 4
}
