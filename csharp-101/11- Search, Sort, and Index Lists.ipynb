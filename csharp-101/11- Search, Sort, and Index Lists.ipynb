{
  "cells": [
    {
      "cell_type": "markdown",
      "metadata": {},
      "source": [
        "# Пошук, Cортування та Індексація Списків\n",
        "\n",
        "Дивіться повне [C# 101 відео (En)](https://www.youtube.com/watch?v=NJ5ghiutzfY&list=PLdo4fOcmZ0oVxKLQCHpiUWun7vlJJvUiN&index=13) для цього модуля."
      ]
    },
    {
      "cell_type": "markdown",
      "metadata": {},
      "source": [
        "## Пошук\n",
        "\n",
        "В попередньому блокноті, ми дізналися як знайти елемент за індексом. Тепер, маючи елемент давайте дізнайємося його індекс.\n",
        "\n",
        "> Запустіть код\n",
        ">\n",
        "> Який індекс \"Софії\"?\n",
        ">\n",
        "> Який індекс є \"Сергія\"?"
      ]
    },
    {
      "cell_type": "code",
      "execution_count": null,
      "metadata": {
        "dotnet_interactive": {
          "language": "csharp"
        },
        "vscode": {
          "languageId": "dotnet-interactive.csharp"
        }
      },
      "outputs": [],
      "source": [
        "using System;\n",
        "using System.Collections.Generic;\n",
        "var names = new List<string> { \"Софія\", \"Анна\", \"Дмитро\", \"Василь\" };\n",
        "string name = \"Анна\";\n",
        "var index = names.IndexOf(name);\n",
        "Console.WriteLine($\"Знайдена {name} на позиції {index}\");"
      ]
    },
    {
      "cell_type": "markdown",
      "metadata": {},
      "source": [
        "## Що означає -1?\n",
        "\n",
        "Якщо `IndexOf()` повертає -1, це означає, елемент у списку не знайдено.Ми можемо використовувати умови, щоб виводити інформацію коли елемент відсутній у списку, а коли знайдено:\n",
        "\n",
        "> Запустіть код.\n",
        ">\n",
        "> Спробуйте кілька різних імен."
      ]
    },
    {
      "cell_type": "code",
      "execution_count": null,
      "metadata": {
        "dotnet_interactive": {
          "language": "csharp"
        },
        "vscode": {
          "languageId": "dotnet-interactive.csharp"
        }
      },
      "outputs": [],
      "source": [
        "var names = new List<string> { \"Софія\", \"Анна\", \"Дмитро\", \"Василь\" };\n",
        "string name = \"Ігор\";\n",
        "var index = names.IndexOf(name);\n",
        "if(index == -1){\n",
        "    Console.WriteLine($\"Ім'я {name} у списку не знайдено\");\n",
        "} else {\n",
        "    Console.WriteLine($\"Знайдено {names[index]} на позиції {index}\");\n",
        "}"
      ]
    },
    {
      "cell_type": "markdown",
      "metadata": {},
      "source": [
        "## Сортування\n",
        "\n",
        "Досі, ми вводили імена у випадковому порядку. Але іноді гарно мати відсортований список. Метод `Sort()` сортує список. Він оцінює тип списку і сортує найбільш природним способом, який можна обрати - якщо це рядки, він сортує їх в алфавітному порядку, якщо це числа, то їх сортує від найменшого до найбільшого.\n",
        "\n",
        "Зауважте, що нам не потрібно писати `sortedList = names.Sort()`, нам достатньо написати `names.Sort()`. `Sort()` змінює сам список, і вам не потрібно зберігати результат як новий об'єкт.\n",
        "\n",
        "> Запустіть код!\n",
        ">\n",
        "> Поміняйте код (додайте чи заберіть елемент списку, змініть порядок) і оцініть як працює сортування."
      ]
    },
    {
      "cell_type": "code",
      "execution_count": null,
      "metadata": {
        "dotnet_interactive": {
          "language": "csharp"
        },
        "vscode": {
          "languageId": "dotnet-interactive.csharp"
        }
      },
      "outputs": [],
      "source": [
        "var names = new List<string> { \"Соня\", \"Анна\", \"Іван\", \"Василь\" };\n",
        "Console.WriteLine(\"До Сортування:\");\n",
        "foreach(var name in names )\n",
        "{\n",
        "    Console.WriteLine(name);\n",
        "}\n",
        "\n",
        "names.Sort();\n",
        "\n",
        "Console.WriteLine();\n",
        "Console.WriteLine(\"Після Сортування:\");\n",
        "foreach(var name in names )\n",
        "{\n",
        "    Console.WriteLine(name);\n",
        "}"
      ]
    },
    {
      "cell_type": "markdown",
      "metadata": {},
      "source": [
        "# Пісочниця\n",
        "\n",
        "Поексперементуйте з новими знаннями! Нижче кілька ідей:\n",
        "\n",
        "> Складіть список продуктів, а потім сортуйте їх! За яким індексом, знаходиться «морква»?\n",
        ">\n",
        "> Складіть список цифр! Відсортуйте і оцініть результат.\n",
        ">\n",
        "> Виведіть списки, які ви склали."
      ]
    },
    {
      "cell_type": "code",
      "execution_count": null,
      "metadata": {
        "dotnet_interactive": {
          "language": "csharp"
        },
        "vscode": {
          "languageId": "dotnet-interactive.csharp"
        }
      },
      "outputs": [],
      "source": [
        "Console.WriteLine(\"Пісочниця\");"
      ]
    },
    {
      "cell_type": "markdown",
      "metadata": {},
      "source": [
        "# Продовжуємо навчання (Eng)\n",
        "\n",
        "Більше ресурсів для навчання!\n",
        "> [⏩ Наступний Модуль - Списки Інших Типів](http://tinyurl.com/csharp-notebook12)\n",
        ">\n",
        "> [⏪ Попередній модуль - Масиви, Списки та Колекції](http://tinyurl.com/csharp-notebook10)\n",
        ">\n",
        "> [Перегляньте відео](https://www.youtube.com/watch?v=NJ5ghiutzfY&list=PLdo4fOcmZ0oVxKLQCHpiUWun7vlJJvUiN&index=13)\n",
        ">\n",
        "> [Документація: Arrays, Lists, and Collections](https://docs.microsoft.com/dotnet/csharp/tour-of-csharp/tutorials/arrays-and-collections?WT.mc_id=Educationalcsharp-c9-scottha)\n",
        ">\n",
        "> [Start at the beginning: What is C#?](https://www.youtube.com/watch?v=BM4CHBmAPh4&list=PLdo4fOcmZ0oVxKLQCHpiUWun7vlJJvUiN&index=1)"
      ]
    },
    {
      "cell_type": "markdown",
      "metadata": {},
      "source": [
        "# Інші ресурси\n",
        "\n",
        "Тут ще кілька посилань для навчання:\n",
        "> [Інші 101 Відео](https://dotnet.microsoft.com/learn/videos?WT.mc_id=csharpnotebook-35129-website)\n",
        ">\n",
        "> [Microsoft Learn](https://docs.microsoft.com/learn/dotnet/?WT.mc_id=csharpnotebook-35129-website)\n",
        ">\n",
        "> [C# Документація](https://docs.microsoft.com/dotnet/csharp/?WT.mc_id=csharpnotebook-35129-website)"
      ]
    }
  ],
  "metadata": {
    "kernelspec": {
      "display_name": ".NET (C#)",
      "language": "C#",
      "name": ".net-csharp"
    },
    "language_info": {
      "file_extension": ".cs",
      "mimetype": "text/x-csharp",
      "name": "C#",
      "pygments_lexer": "csharp",
      "version": "8.0"
    }
  },
  "nbformat": 4,
  "nbformat_minor": 4
}
