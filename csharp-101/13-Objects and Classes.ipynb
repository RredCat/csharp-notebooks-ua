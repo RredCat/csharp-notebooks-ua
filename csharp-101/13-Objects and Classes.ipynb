{
  "cells": [
    {
      "cell_type": "markdown",
      "metadata": {},
      "source": [
        "# Об'єкти та Класи\n",
        "\n",
        "Дивіться повне відео [C# 101 video En](https://www.youtube.com/watch?v=TzgxcAiHCWA&list=PLdo4fOcmZ0oVxKLQCHpiUWun7vlJJvUiN&index=16) для цього модуля."
      ]
    },
    {
      "cell_type": "markdown",
      "metadata": {},
      "source": [
        "## Об'єктно Орієнтоване Програмування\n",
        "\n",
        "Об'єкти - це спосіб імітувати реальний світ у програмуванні. Якщо ми беремо поняття людини, вона може мати ім'я, адресу, висоту та інші властивості. Ці властивості змінюються від людини до людини. Об'єктно-орієнтована програмування, такий тип програмування, щоб ми могли легко зробити об'єкт людини з усіма цими деталями. Є багато речей, які ми можо зробити з об'єктами, але наразі почнемо з основ."
      ]
    },
    {
      "cell_type": "markdown",
      "metadata": {},
      "source": [
        "## Створення банку\n",
        "\n",
        "Протягом наступних кількох модулів ми зробимо об'єкт банківського рахунку з цими атрибутами:\n",
        "\n",
        "> Він має 10-значний номер, який однозначно визначає банківський рахунок. \n",
        "> \n",
        "> У ньому є рядок, який зберігає ім'я або імена власників. \n",
        "> \n",
        "> Можна отримати Баланс. \n",
        "> \n",
        "> Він дозволяє депозити. \n",
        "> \n",
        "> Він дозволяє зняття коштів. \n",
        "> \n",
        "> Початковий баланс повинен бути позитивним. \n",
        "> \n",
        "> Зняття коштів не може призвести до негативного балансу.\n",
        "\n",
        "Ми можемо класифікувати цілі:\n",
        "\n",
        "- **Properties (Властивості)**: деталі про об’єкт (скільки грошей він має, ім'я рахунку).\n",
        "- **Actions (Дії)**: що об'єкт може зробити (поповнити депозит чи знятти кошти).\n",
        "- **Rules (Правила)**: правила щодо об'єкта, щоб він не намагався зробити неможливі речі (переконайтеся, що рахунок ніколи не може стати негативним)."
      ]
    },
    {
      "cell_type": "markdown",
      "metadata": {},
      "source": [
        "## Зробіть самі\n",
        "\n",
        "Нижче порожній об'єкт `BankAccount`, який ми збираємося створити. Додасте поетапно код."
      ]
    },
    {
      "cell_type": "markdown",
      "metadata": {},
      "source": [
        "## #1: Properties (Властивості)\n",
        "\n",
        "Властивості - це список значень, які має кожен об'єкт.\n",
        "`get` і `set`: іноді ви хочете щоб змінну було видно, але не можливо змінити. Іншого разу ви хочете, щоб можна було змінити змінну. `get` дозволяє отримати змінну, а `set` дозволяє змінити її.\n",
        "\n",
        "> Скопіюйте код нижче та вставте його в об'єкт `BankAccount` підкоментарем `//Властивості`\n",
        "\n",
        "```csharp\n",
        "    public string Number { get; }\n",
        "    public string Owner { get; set; }\n",
        "    public decimal Balance { get; }\n",
        "```"
      ]
    },
    {
      "cell_type": "code",
      "execution_count": null,
      "metadata": {
        "dotnet_interactive": {
          "language": "csharp"
        },
        "vscode": {
          "languageId": "dotnet-interactive.csharp"
        }
      },
      "outputs": [],
      "source": [
        "public class BankAccount\n",
        "{\n",
        "    // Властивості (вставте тут)\n",
        "\n",
        "    // Конструктор\n",
        "\n",
        "    // Методи\n",
        "}"
      ]
    },
    {
      "cell_type": "markdown",
      "metadata": {},
      "source": [
        "## #2: Конструктор\n",
        "\n",
        "Цей метод - це те, що створює конкретний екземпляр об'єкта. Створюючи. `BankAccount` клас, як ми робимо зараз, схоже на створення шаблону для всіх банківських рахунків. Це не індивідуальний рахунок. Конструктор - це те, що робить рахунок особливим для кожної особи. Ми даємо конструктору всі необхідні деталі для певного облікового запису, і він призначає деталі властивостям нового об'єкта.\n",
        "\n",
        "`this` це ключове слово, яке дає доступ до поточного класу. Це чіткий запис, що властивість `Owner` належить цьому конкретному екземпляру класу. В майбутньому у нас буде два екземпляри об'єкта які взаємодіятимуть, і `this` стане більш корисним. Ви також можете писати `Owner` замість `this.Owner` якщо хочете! Тобто ключове слово `this` є не обов'язковим, але більш наглядним!\n",
        "\n",
        "Беремо змінні `name` і `initialBalance` і створємо банківський рахунок, який містить ці змінні.\n",
        "\n",
        "> Скопіюйте і вставте конструктор у `BankAccount` внизу, під коментарем `//Конструктор`\n",
        "\n",
        "```csharp\n",
        "public BankAccount(string name, decimal initialBalance)\n",
        "{\n",
        "    this.Owner = name;\n",
        "    this.Balance = initialBalance;\n",
        "}\n",
        "```"
      ]
    },
    {
      "cell_type": "code",
      "execution_count": null,
      "metadata": {
        "dotnet_interactive": {
          "language": "csharp"
        },
        "vscode": {
          "languageId": "dotnet-interactive.csharp"
        }
      },
      "outputs": [],
      "source": [
        "public class BankAccount\n",
        "{\n",
        "    // Властивості\n",
        "    public string Number { get; }\n",
        "    public string Owner { get; set; }\n",
        "    public decimal Balance { get; }\n",
        "\n",
        "    // Конструктор (Вставте тут!)\n",
        "\n",
        "    // Методи\n",
        "}"
      ]
    },
    {
      "cell_type": "markdown",
      "metadata": {},
      "source": [
        "## #3: Створення Екземпляра\n",
        "\n",
        "Тепер, коли у нас написано код, подивимося, що станеться, якщо ви створити екземпляр `BankAccount`!\n",
        "\n",
        "> Запустіть два блоки коду нижче, щоб створити банківський рахунок. Працює так як ви очікували?\n",
        ">\n",
        "> Змініть другий блок коду, щоб створити банківський рахунок для себе. Скільки грошей ви хочете на своєму банківському рахунку?"
      ]
    },
    {
      "cell_type": "code",
      "execution_count": null,
      "metadata": {
        "dotnet_interactive": {
          "language": "csharp"
        },
        "vscode": {
          "languageId": "dotnet-interactive.csharp"
        }
      },
      "outputs": [],
      "source": [
        "public class BankAccount\n",
        "{\n",
        "    // Властивості\n",
        "    public string Number { get; }\n",
        "    public string Owner { get; set; }\n",
        "    public decimal Balance { get; }\n",
        "\n",
        "    // Конструктор\n",
        "    public BankAccount(string name, decimal initialBalance)\n",
        "    {\n",
        "        this.Owner = name;\n",
        "        this.Balance = initialBalance;\n",
        "    }\n",
        "    // Методи\n",
        "}"
      ]
    },
    {
      "cell_type": "code",
      "execution_count": null,
      "metadata": {
        "dotnet_interactive": {
          "language": "csharp"
        },
        "vscode": {
          "languageId": "dotnet-interactive.csharp"
        }
      },
      "outputs": [
        {
          "name": "stdout",
          "output_type": "stream",
          "text": [
            "Рахунок  був створений для Кіндрат, баланс $1000\r\n"
          ]
        }
      ],
      "source": [
        "var account = new BankAccount(\"Кіндрат\", 1000);\n",
        "Console.WriteLine($\"Рахунок {account.Number} був створений для {account.Owner}, баланс ${account.Balance}\");"
      ]
    },
    {
      "cell_type": "markdown",
      "metadata": {},
      "source": [
        "## А як щодо `account.Number`?\n",
        "\n",
        "Можливо, ви помітили, що код нічого не виводить для `account.Number`. Нічого страшного! Ми ще ого не визначили. Як це робити ми дізнаєтесь в наступному модулі."
      ]
    },
    {
      "cell_type": "markdown",
      "metadata": {},
      "source": [
        "## #4: Functions (Функції)\n",
        "\n",
        "Функції існують для виконання дій з об'єктом або зміни змінних об'єкта. Наступні функції створюють депозит і знімають гроші. Ми додамо тіло в методи пізніше, але наразі просто додамо порожні версії.\n",
        "\n",
        "> Скопіюйте функції нижче та додайте їх до `BankAccount` під коментарем `//Функції`\n",
        "\n",
        "```csharp\n",
        "public void MakeDeposit(decimal amount, DateTime date, string note)\n",
        "{\n",
        "}\n",
        "\n",
        "public void MakeWithdrawal(decimal amount, DateTime date, string note)\n",
        "{\n",
        "}\n",
        "```"
      ]
    },
    {
      "cell_type": "code",
      "execution_count": null,
      "metadata": {
        "dotnet_interactive": {
          "language": "csharp"
        },
        "vscode": {
          "languageId": "dotnet-interactive.csharp"
        }
      },
      "outputs": [],
      "source": [
        "public class BankAccount\n",
        "{\n",
        "    // Властивості\n",
        "    public string Number { get; }\n",
        "    public string Owner { get; set; }\n",
        "    public decimal Balance { get; }\n",
        "\n",
        "    // Конструктор\n",
        "    public BankAccount(string name, decimal initialBalance)\n",
        "    {\n",
        "        this.Owner = name;\n",
        "        this.Balance = initialBalance;\n",
        "    }\n",
        "\n",
        "    // Функції (Вставте тут!)\n",
        "}"
      ]
    },
    {
      "cell_type": "markdown",
      "metadata": {},
      "source": [
        "# Рев'ю\n",
        "\n",
        "Далі версія `BankAccount` з якою ми можемо закінчити цей модуль. Ми додамо більше в наступному модулі, але чому б вам не поексперементувати, просто щоб побачити, що вам потрібно навчитися?\n",
        "\n",
        "> Чи можете ви додати 10-значний ідентифікатор? Що ваш об’єкт повинен знати, щоб переконатися, що ідентифікатор унікальний?\n",
        ">\n",
        "> Спробуйте додати тіло до функції депозиту! Що ти хочеш, щоб це робило?\n",
        ">\n",
        "> Як ви можете перевірити, чи початковий баланс позитивний?"
      ]
    },
    {
      "cell_type": "code",
      "execution_count": null,
      "metadata": {
        "dotnet_interactive": {
          "language": "csharp"
        },
        "vscode": {
          "languageId": "dotnet-interactive.csharp"
        }
      },
      "outputs": [],
      "source": [
        "public class BankAccount\n",
        "{\n",
        "    // Змінні (#1)\n",
        "    public string Number { get; }\n",
        "    public string Owner { get; set; }\n",
        "    public decimal Balance { get; }\n",
        "\n",
        "    // Конструктор (#2)\n",
        "    public BankAccount(string name, decimal initialBalance)\n",
        "    {\n",
        "        this.Owner = name;\n",
        "        this.Balance = initialBalance;\n",
        "    }\n",
        "\n",
        "    // Функції (#4)\n",
        "    public void MakeDeposit(decimal amount, DateTime date, string note)\n",
        "    {\n",
        "    }\n",
        "\n",
        "    public void MakeWithdrawal(decimal amount, DateTime date, string note)\n",
        "    {\n",
        "    }\n",
        "}"
      ]
    },
    {
      "cell_type": "code",
      "execution_count": null,
      "metadata": {
        "dotnet_interactive": {
          "language": "csharp"
        },
        "vscode": {
          "languageId": "dotnet-interactive.csharp"
        }
      },
      "outputs": [
        {
          "name": "stdout",
          "output_type": "stream",
          "text": [
            "Рахунок  був створений для Kendra з балансом $1000\r\n"
          ]
        }
      ],
      "source": [
        "//Створення екземпляру (#3)\n",
        "var account = new BankAccount(\"Кіндрат\", 1000);\n",
        "Console.WriteLine($\"Рахунок {account.Number} був створений для {account.Owner} з балансом ${account.Balance}\");"
      ]
    },
    {
      "cell_type": "markdown",
      "metadata": {},
      "source": [
        "# Продовжуємо навчання (Eng)\n",
        "\n",
        "Більше ресурсів для навчання!\n",
        "> [⏩ Наступний Модуль - Методи та Властивості](http://tinyurl.com/csharp-notebook14)\n",
        ">\n",
        "> [⏪ Попередній Модуль - Списки Інших Типів](http://tinyurl.com/csharp-notebook12)\n",
        ">\n",
        "> [Перегляньте відео](https://www.youtube.com/watch?v=TzgxcAiHCWA&list=PLdo4fOcmZ0oVxKLQCHpiUWun7vlJJvUiN&index=16)\n",
        ">\n",
        "> [Документація: Об'єктно-орієнтоване програмування на C#](https://docs.microsoft.com/dotnet/csharp/fundamentals/tutorials/classes?WT.mc_id=Educationalcsharp-c9-scottha)\n",
        ">\n",
        "> [Start at the beginning: What is C#?](https://www.youtube.com/watch?v=BM4CHBmAPh4&list=PLdo4fOcmZ0oVxKLQCHpiUWun7vlJJvUiN&index=1)"
      ]
    },
    {
      "cell_type": "markdown",
      "metadata": {},
      "source": [
        "# Інші ресурси\n",
        "\n",
        "Ось ще кілька ресурсів для навчання:\n",
        "> Start at the beginning: [What is C#?](https://www.youtube.com/watch?v=BM4CHBmAPh4&list=PLdo4fOcmZ0oVxKLQCHpiUWun7vlJJvUiN&index=1)\n",
        ">\n",
        "> [Other 101 Videos](https://dotnet.microsoft.com/learn/videos?WT.mc_id=csharpnotebook-35129-website)\n",
        ">\n",
        "> [Microsoft Learn](https://docs.microsoft.com/learn/dotnet/?WT.mc_id=csharpnotebook-35129-website)\n",
        ">\n",
        "> [C# Documentation](https://docs.microsoft.com/dotnet/csharp/?WT.mc_id=csharpnotebook-35129-website)"
      ]
    }
  ],
  "metadata": {
    "kernelspec": {
      "display_name": ".NET (C#)",
      "language": "C#",
      "name": ".net-csharp"
    },
    "language_info": {
      "file_extension": ".cs",
      "mimetype": "text/x-csharp",
      "name": "C#",
      "pygments_lexer": "csharp",
      "version": "8.0"
    }
  },
  "nbformat": 4,
  "nbformat_minor": 4
}
