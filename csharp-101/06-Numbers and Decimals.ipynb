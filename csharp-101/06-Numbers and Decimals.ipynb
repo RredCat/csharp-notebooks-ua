{
  "cells": [
    {
      "cell_type": "markdown",
      "metadata": {},
      "source": [
        "# Десяткові Цифри (Decimal)\n",
        "\n",
        "\n",
        "Дивіться відео [C# 101 video En](https://www.youtube.com/watch?v=kdKcpF9roeU&list=PLdo4fOcmZ0oVxKLQCHpiUWun7vlJJvUiN&index=7) для цього модуля."
      ]
    },
    {
      "cell_type": "markdown",
      "metadata": {},
      "source": [
        "## Робота з типами з фіксованою комою\n",
        "\n",
        "Тип `Decimal` схожий на `double`. Він не має такого великого діапазону, але має значно більшу точність.\n",
        "\n",
        "> Який діапазон десяткового типу?"
      ]
    },
    {
      "cell_type": "code",
      "execution_count": null,
      "metadata": {
        "dotnet_interactive": {
          "language": "csharp"
        },
        "vscode": {
          "languageId": "dotnet-interactive.csharp"
        }
      },
      "outputs": [
        {
          "name": "stdout",
          "output_type": "stream",
          "text": [
            "Діапазон для decimal від -79228162514264337593543950335 до 79228162514264337593543950335\r\n"
          ]
        }
      ],
      "source": [
        "decimal min = decimal.MinValue;\n",
        "decimal max = decimal.MaxValue;\n",
        "Console.WriteLine($\"Діапазон для decimal від {min} до {max}\");"
      ]
    },
    {
      "cell_type": "markdown",
      "metadata": {},
      "source": [
        "> Як порівняти точність double та decimal?"
      ]
    },
    {
      "cell_type": "code",
      "execution_count": null,
      "metadata": {
        "dotnet_interactive": {
          "language": "csharp"
        },
        "vscode": {
          "languageId": "dotnet-interactive.csharp"
        }
      },
      "outputs": [
        {
          "name": "stdout",
          "output_type": "stream",
          "text": [
            "0,3333333333333333\r\n",
            "0,3333333333333333333333333333\r\n"
          ]
        }
      ],
      "source": [
        "double a = 1.0;\n",
        "double b = 3.0;\n",
        "Console.WriteLine(a / b);\n",
        "\n",
        "decimal c = 1.0M;\n",
        "decimal d = 3.0M;\n",
        "Console.WriteLine(c / d);"
      ]
    },
    {
      "cell_type": "markdown",
      "metadata": {},
      "source": [
        "Як ми бачимо, decimal мають більш високу точність, ніж double."
      ]
    },
    {
      "cell_type": "markdown",
      "metadata": {},
      "source": [
        "# Пісочниця\n",
        "\n",
        "Поексперементуйте з новими знаннями! Ось кілька ідей для старту:\n",
        "\n",
        "> Напишіть код який шукає площу кола радіусом 2,5 сантиметра?\n",
        ">\n",
        "> Як виглядатиме результат, якщо ми будемо міняти типи чисел послідовно на int, short і decimal.\n",
        ">\n",
        "> Підказка: Під час підрахунків площі кола, число Пі можна записати так - `Math.PI`."
      ]
    },
    {
      "cell_type": "code",
      "execution_count": null,
      "metadata": {
        "dotnet_interactive": {
          "language": "csharp"
        },
        "vscode": {
          "languageId": "dotnet-interactive.csharp"
        }
      },
      "outputs": [
        {
          "name": "stdout",
          "output_type": "stream",
          "text": [
            "Пісочниця\r\n"
          ]
        }
      ],
      "source": [
        "Console.WriteLine(\"Пісочниця\");"
      ]
    },
    {
      "cell_type": "markdown",
      "metadata": {},
      "source": [
        "# Продовжуємо навчання (Eng)\n",
        "\n",
        "Більше ресурсів для навчання!\n",
        "> [⏩ Наступний Модуль - Branches (if)](http://tinyurl.com/csharp-notebook07)\n",
        ">\n",
        "> [⏪ Попередній Модуль - Numbers and Integer Precision](http://tinyurl.com/csharp-notebook05)\n",
        ">\n",
        "> [Watch the video](https://www.youtube.com/watch?v=kdKcpF9roeU&list=PLdo4fOcmZ0oVxKLQCHpiUWun7vlJJvUiN&index=7)\n",
        ">\n",
        "> [Документація: Numbers in C#](https://docs.microsoft.com/dotnet/csharp/tour-of-csharp/tutorials/numbers-in-csharp?WT.mc_id=Educationalcsharp-c9-scottha)\n",
        ">\n",
        "> [Start at the beginning: What is C#?](https://www.youtube.com/watch?v=BM4CHBmAPh4&list=PLdo4fOcmZ0oVxKLQCHpiUWun7vlJJvUiN&index=1)"
      ]
    },
    {
      "cell_type": "markdown",
      "metadata": {},
      "source": [
        "# Інші ресурси\n",
        "\n",
        "Більше ресурсів для навчання:\n",
        "> [Other 101 Videos](https://dotnet.microsoft.com/learn/videos?WT.mc_id=csharpnotebook-35129-website)\n",
        ">\n",
        "> [Microsoft Learn](https://docs.microsoft.com/learn/dotnet/?WT.mc_id=csharpnotebook-35129-website)\n",
        ">\n",
        "> [C# Documentation](https://docs.microsoft.com/dotnet/csharp/?WT.mc_id=csharpnotebook-35129-website)"
      ]
    }
  ],
  "metadata": {
    "kernelspec": {
      "display_name": ".NET (C#)",
      "language": "C#",
      "name": ".net-csharp"
    },
    "language_info": {
      "file_extension": ".cs",
      "mimetype": "text/x-csharp",
      "name": "C#",
      "pygments_lexer": "csharp",
      "version": "8.0"
    }
  },
  "nbformat": 4,
  "nbformat_minor": 4
}
